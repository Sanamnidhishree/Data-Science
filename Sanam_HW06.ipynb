{
  "cells": [
    {
      "cell_type": "markdown",
      "id": "25834503-f8f5-4973-8f1d-d94c2e10aeeb",
      "metadata": {
        "id": "25834503-f8f5-4973-8f1d-d94c2e10aeeb"
      },
      "source": [
        "# DATA 601 - HW06 (Spring 22)\n",
        "Due date: May 12, 2022, 23:59 pm"
      ]
    },
    {
      "cell_type": "code",
      "source": [
        "# USUAL SUSPECTS\n",
        "import numpy as np\n",
        "import pandas as pd\n",
        "import matplotlib.pyplot as plt\n",
        "from matplotlib.pyplot import bar\n",
        "import seaborn as sns\n",
        "# sklearn stuff\n",
        "from sklearn.metrics import r2_score\n",
        "from sklearn.model_selection import train_test_split\n",
        "from sklearn.feature_selection import SelectKBest\n",
        "from sklearn.feature_selection import f_regression\n",
        "from sklearn.linear_model import LinearRegression\n",
        "from sklearn.metrics import mean_absolute_error\n",
        "from sklearn.linear_model import LogisticRegression\n",
        "from sklearn.metrics import confusion_matrix"
      ],
      "metadata": {
        "id": "VfAr9hOd6eMX"
      },
      "id": "VfAr9hOd6eMX",
      "execution_count": 115,
      "outputs": []
    },
    {
      "cell_type": "markdown",
      "id": "cc6ce2f4-c0b7-4990-91cf-f92018392b95",
      "metadata": {
        "id": "cc6ce2f4-c0b7-4990-91cf-f92018392b95"
      },
      "source": [
        "### Q1. (10 points)\n",
        "Training and validation dataset: https://raw.githubusercontent.com/simsekergun/DATA601/main/Datasets/HouseTraining.csv\n",
        "\n",
        "* The last column of the HouseTraining.csv file lists price of 400 houses.\n",
        "* There are 11 features\n",
        "  * School rating (integer between 1 and 10)\n",
        "  * House Area (sq ft)\n",
        "  * Lot Area (sq ft)\n",
        "  * Number of rooms\n",
        "  * Number of bathrooms\n",
        "  * Garage Yes:1, No: 0\n",
        "  * Pool Yes:1, No: 0\n",
        "  * Age of the House (years)\n",
        "  * Walkability rating (something between 1 and 10)\n",
        "  * Crime rate (something between 1 and 10)\n",
        "  * Zipcode (Note that this is a fake data) \n",
        "  * House price ($)\n",
        "\n",
        "Here are questions <br>\n",
        "<b>1.1</b> Calculate the average crime rate for each zip code determine the zipcode with highest average crime rate? <br>\n",
        "<b>1.2</b> Calculate the average house price for each zip code determine the zipcode with lowest average house price? Do you see a pattern? <br>\n",
        "<b>1.3 </b> What feature has the strongest correlation with the \"School_Rating\" <br>\n",
        "<b>1.4</b> Split your dataset into two (training 80\\%, validation (testing) \\%20, random_state=1). Build a multiple linear regression model to estimate the house price from all the other features we have and calculate the maximum relative error using $100*\\mathrm{max}|(y_i-\\hat{y}_i)/y_i|$ and $R^2$, where $y_i$ is the true value for the $i^{th}$ case in your testing data set and $\\hat{y}_i$ is the prediction. <br>\n",
        "<b>1.5</b> Download the new test dataset (https://raw.githubusercontent.com/simsekergun/DATA601/main/Datasets/HouseTest.csv), guess the prices of these 10 houses featured in this dataset and print your predictions. Note that this dataset doesn't include \"House_Price\" column which was given in the training dataset."
      ]
    },
    {
      "cell_type": "code",
      "source": [
        "#Q1 loading the data into a \"HouseTraining\" Dataframe.\n",
        "\n",
        "HouseTraining = pd.read_csv(\"https://raw.githubusercontent.com/simsekergun/DATA601/main/Datasets/HouseTraining.csv\")\n",
        "HouseTraining.drop(HouseTraining.columns[[0]], axis = 1, inplace = True)\n",
        "HouseTraining.head()"
      ],
      "metadata": {
        "colab": {
          "base_uri": "https://localhost:8080/",
          "height": 204
        },
        "id": "tKmLxiBBbRne",
        "outputId": "4c0e7954-0054-4dc4-968e-57a88c2d1b0f"
      },
      "id": "tKmLxiBBbRne",
      "execution_count": 116,
      "outputs": [
        {
          "output_type": "execute_result",
          "data": {
            "text/plain": [
              "   School_Rating  House_Area  Lot_Area  Room_No  Bath_No  Garage  Pool  \\\n",
              "0              8        3672      7364      5.0      5.0     1.0   0.0   \n",
              "1              6        1743      3893      2.0      2.0     0.0   0.0   \n",
              "2              8        2242      5199      3.0      3.0     1.0   0.0   \n",
              "3              8        2257      4699      3.0      3.0     0.0   1.0   \n",
              "4              8        2436      5200      3.0      3.0     1.0   0.0   \n",
              "\n",
              "   House_Age  Walkability  Crime_Rate  Zipcode  House_Price  \n",
              "0          8          8.0           4    20104   15332000.0  \n",
              "1         33          5.0           8    20140    6411000.0  \n",
              "2         34          7.0           6    20182    8931000.0  \n",
              "3         42          6.0           5    20182    8662000.0  \n",
              "4         70          7.0           6    20182    9098000.0  "
            ],
            "text/html": [
              "\n",
              "  <div id=\"df-fdfa2d63-bcd8-420f-883a-f40a7b753228\">\n",
              "    <div class=\"colab-df-container\">\n",
              "      <div>\n",
              "<style scoped>\n",
              "    .dataframe tbody tr th:only-of-type {\n",
              "        vertical-align: middle;\n",
              "    }\n",
              "\n",
              "    .dataframe tbody tr th {\n",
              "        vertical-align: top;\n",
              "    }\n",
              "\n",
              "    .dataframe thead th {\n",
              "        text-align: right;\n",
              "    }\n",
              "</style>\n",
              "<table border=\"1\" class=\"dataframe\">\n",
              "  <thead>\n",
              "    <tr style=\"text-align: right;\">\n",
              "      <th></th>\n",
              "      <th>School_Rating</th>\n",
              "      <th>House_Area</th>\n",
              "      <th>Lot_Area</th>\n",
              "      <th>Room_No</th>\n",
              "      <th>Bath_No</th>\n",
              "      <th>Garage</th>\n",
              "      <th>Pool</th>\n",
              "      <th>House_Age</th>\n",
              "      <th>Walkability</th>\n",
              "      <th>Crime_Rate</th>\n",
              "      <th>Zipcode</th>\n",
              "      <th>House_Price</th>\n",
              "    </tr>\n",
              "  </thead>\n",
              "  <tbody>\n",
              "    <tr>\n",
              "      <th>0</th>\n",
              "      <td>8</td>\n",
              "      <td>3672</td>\n",
              "      <td>7364</td>\n",
              "      <td>5.0</td>\n",
              "      <td>5.0</td>\n",
              "      <td>1.0</td>\n",
              "      <td>0.0</td>\n",
              "      <td>8</td>\n",
              "      <td>8.0</td>\n",
              "      <td>4</td>\n",
              "      <td>20104</td>\n",
              "      <td>15332000.0</td>\n",
              "    </tr>\n",
              "    <tr>\n",
              "      <th>1</th>\n",
              "      <td>6</td>\n",
              "      <td>1743</td>\n",
              "      <td>3893</td>\n",
              "      <td>2.0</td>\n",
              "      <td>2.0</td>\n",
              "      <td>0.0</td>\n",
              "      <td>0.0</td>\n",
              "      <td>33</td>\n",
              "      <td>5.0</td>\n",
              "      <td>8</td>\n",
              "      <td>20140</td>\n",
              "      <td>6411000.0</td>\n",
              "    </tr>\n",
              "    <tr>\n",
              "      <th>2</th>\n",
              "      <td>8</td>\n",
              "      <td>2242</td>\n",
              "      <td>5199</td>\n",
              "      <td>3.0</td>\n",
              "      <td>3.0</td>\n",
              "      <td>1.0</td>\n",
              "      <td>0.0</td>\n",
              "      <td>34</td>\n",
              "      <td>7.0</td>\n",
              "      <td>6</td>\n",
              "      <td>20182</td>\n",
              "      <td>8931000.0</td>\n",
              "    </tr>\n",
              "    <tr>\n",
              "      <th>3</th>\n",
              "      <td>8</td>\n",
              "      <td>2257</td>\n",
              "      <td>4699</td>\n",
              "      <td>3.0</td>\n",
              "      <td>3.0</td>\n",
              "      <td>0.0</td>\n",
              "      <td>1.0</td>\n",
              "      <td>42</td>\n",
              "      <td>6.0</td>\n",
              "      <td>5</td>\n",
              "      <td>20182</td>\n",
              "      <td>8662000.0</td>\n",
              "    </tr>\n",
              "    <tr>\n",
              "      <th>4</th>\n",
              "      <td>8</td>\n",
              "      <td>2436</td>\n",
              "      <td>5200</td>\n",
              "      <td>3.0</td>\n",
              "      <td>3.0</td>\n",
              "      <td>1.0</td>\n",
              "      <td>0.0</td>\n",
              "      <td>70</td>\n",
              "      <td>7.0</td>\n",
              "      <td>6</td>\n",
              "      <td>20182</td>\n",
              "      <td>9098000.0</td>\n",
              "    </tr>\n",
              "  </tbody>\n",
              "</table>\n",
              "</div>\n",
              "      <button class=\"colab-df-convert\" onclick=\"convertToInteractive('df-fdfa2d63-bcd8-420f-883a-f40a7b753228')\"\n",
              "              title=\"Convert this dataframe to an interactive table.\"\n",
              "              style=\"display:none;\">\n",
              "        \n",
              "  <svg xmlns=\"http://www.w3.org/2000/svg\" height=\"24px\"viewBox=\"0 0 24 24\"\n",
              "       width=\"24px\">\n",
              "    <path d=\"M0 0h24v24H0V0z\" fill=\"none\"/>\n",
              "    <path d=\"M18.56 5.44l.94 2.06.94-2.06 2.06-.94-2.06-.94-.94-2.06-.94 2.06-2.06.94zm-11 1L8.5 8.5l.94-2.06 2.06-.94-2.06-.94L8.5 2.5l-.94 2.06-2.06.94zm10 10l.94 2.06.94-2.06 2.06-.94-2.06-.94-.94-2.06-.94 2.06-2.06.94z\"/><path d=\"M17.41 7.96l-1.37-1.37c-.4-.4-.92-.59-1.43-.59-.52 0-1.04.2-1.43.59L10.3 9.45l-7.72 7.72c-.78.78-.78 2.05 0 2.83L4 21.41c.39.39.9.59 1.41.59.51 0 1.02-.2 1.41-.59l7.78-7.78 2.81-2.81c.8-.78.8-2.07 0-2.86zM5.41 20L4 18.59l7.72-7.72 1.47 1.35L5.41 20z\"/>\n",
              "  </svg>\n",
              "      </button>\n",
              "      \n",
              "  <style>\n",
              "    .colab-df-container {\n",
              "      display:flex;\n",
              "      flex-wrap:wrap;\n",
              "      gap: 12px;\n",
              "    }\n",
              "\n",
              "    .colab-df-convert {\n",
              "      background-color: #E8F0FE;\n",
              "      border: none;\n",
              "      border-radius: 50%;\n",
              "      cursor: pointer;\n",
              "      display: none;\n",
              "      fill: #1967D2;\n",
              "      height: 32px;\n",
              "      padding: 0 0 0 0;\n",
              "      width: 32px;\n",
              "    }\n",
              "\n",
              "    .colab-df-convert:hover {\n",
              "      background-color: #E2EBFA;\n",
              "      box-shadow: 0px 1px 2px rgba(60, 64, 67, 0.3), 0px 1px 3px 1px rgba(60, 64, 67, 0.15);\n",
              "      fill: #174EA6;\n",
              "    }\n",
              "\n",
              "    [theme=dark] .colab-df-convert {\n",
              "      background-color: #3B4455;\n",
              "      fill: #D2E3FC;\n",
              "    }\n",
              "\n",
              "    [theme=dark] .colab-df-convert:hover {\n",
              "      background-color: #434B5C;\n",
              "      box-shadow: 0px 1px 3px 1px rgba(0, 0, 0, 0.15);\n",
              "      filter: drop-shadow(0px 1px 2px rgba(0, 0, 0, 0.3));\n",
              "      fill: #FFFFFF;\n",
              "    }\n",
              "  </style>\n",
              "\n",
              "      <script>\n",
              "        const buttonEl =\n",
              "          document.querySelector('#df-fdfa2d63-bcd8-420f-883a-f40a7b753228 button.colab-df-convert');\n",
              "        buttonEl.style.display =\n",
              "          google.colab.kernel.accessAllowed ? 'block' : 'none';\n",
              "\n",
              "        async function convertToInteractive(key) {\n",
              "          const element = document.querySelector('#df-fdfa2d63-bcd8-420f-883a-f40a7b753228');\n",
              "          const dataTable =\n",
              "            await google.colab.kernel.invokeFunction('convertToInteractive',\n",
              "                                                     [key], {});\n",
              "          if (!dataTable) return;\n",
              "\n",
              "          const docLinkHtml = 'Like what you see? Visit the ' +\n",
              "            '<a target=\"_blank\" href=https://colab.research.google.com/notebooks/data_table.ipynb>data table notebook</a>'\n",
              "            + ' to learn more about interactive tables.';\n",
              "          element.innerHTML = '';\n",
              "          dataTable['output_type'] = 'display_data';\n",
              "          await google.colab.output.renderOutput(dataTable, element);\n",
              "          const docLink = document.createElement('div');\n",
              "          docLink.innerHTML = docLinkHtml;\n",
              "          element.appendChild(docLink);\n",
              "        }\n",
              "      </script>\n",
              "    </div>\n",
              "  </div>\n",
              "  "
            ]
          },
          "metadata": {},
          "execution_count": 116
        }
      ]
    },
    {
      "cell_type": "code",
      "source": [
        "#1.1 average crime rate for each zip code\n",
        "\n",
        "crime_rate_zip = HouseTraining.groupby(['Zipcode'],as_index=False)['Crime_Rate'].mean()\n",
        "crime_rate_zip=crime_rate_zip.sort_values('Crime_Rate',ascending=False,ignore_index=True)\n",
        "print(crime_rate_zip)\n",
        "print(\"\\n\",\"zipcode with highest average crime rate is\", crime_rate_zip['Zipcode'][0])"
      ],
      "metadata": {
        "colab": {
          "base_uri": "https://localhost:8080/"
        },
        "id": "XD8Gt6N6coFh",
        "outputId": "7ba115c2-e47a-4dc6-8bf3-9df08a437e32"
      },
      "id": "XD8Gt6N6coFh",
      "execution_count": 117,
      "outputs": [
        {
          "output_type": "stream",
          "name": "stdout",
          "text": [
            "   Zipcode  Crime_Rate\n",
            "0    20140    6.511905\n",
            "1    20174    6.368421\n",
            "2    20119    4.610390\n",
            "3    20182    4.500000\n",
            "4    20104    4.283784\n",
            "\n",
            " zipcode with highest average crime rate is 20140\n"
          ]
        }
      ]
    },
    {
      "cell_type": "code",
      "source": [
        "#1.2 average house price for each zip code\n",
        "\n",
        "house_price_zip = HouseTraining.groupby(['Zipcode'],as_index=False)['House_Price'].mean()\n",
        "house_price_zip= house_price_zip.sort_values('House_Price',ascending=False,ignore_index=True)\n",
        "print(house_price_zip)\n",
        "print(\"\\n\",\"zipcode with highest average house price is\", house_price_zip['Zipcode'][0])\n",
        "\n",
        "## we can see that the zip code with highest avg crime rate has lowest avg house price."
      ],
      "metadata": {
        "colab": {
          "base_uri": "https://localhost:8080/"
        },
        "id": "EE5YlWimZHVE",
        "outputId": "d7b6706d-4975-447c-8506-d21c040b4fcf"
      },
      "id": "EE5YlWimZHVE",
      "execution_count": 118,
      "outputs": [
        {
          "output_type": "stream",
          "name": "stdout",
          "text": [
            "   Zipcode   House_Price\n",
            "0    20182  1.090149e+07\n",
            "1    20119  1.087213e+07\n",
            "2    20104  1.083254e+07\n",
            "3    20174  1.063704e+07\n",
            "4    20140  1.030618e+07\n",
            "\n",
            " zipcode with highest average house price is 20182\n"
          ]
        }
      ]
    },
    {
      "cell_type": "code",
      "source": [
        "corrMatrix= HouseTraining.corr(method='pearson')\n",
        "df= pd.DataFrame(corrMatrix)\n",
        "print(df.loc[:,'School_Rating'])\n",
        "plt.figure(figsize = (15,8))\n",
        "sns.heatmap(corrMatrix, annot= True)\n",
        "plt.show()\n",
        "\n",
        "## it is evident from the heatmap that the features Walkability (positively correlated), Crime_Rate & Zipcode (negatively correlated) are strongly correlated to School_Rating."
      ],
      "metadata": {
        "colab": {
          "base_uri": "https://localhost:8080/",
          "height": 768
        },
        "id": "M1BvfmIKaay1",
        "outputId": "57985103-5aac-41d6-b3f1-7b1894f64b07"
      },
      "id": "M1BvfmIKaay1",
      "execution_count": 119,
      "outputs": [
        {
          "output_type": "stream",
          "name": "stdout",
          "text": [
            "School_Rating    1.000000\n",
            "House_Area       0.003273\n",
            "Lot_Area        -0.012608\n",
            "Room_No          0.005996\n",
            "Bath_No          0.011234\n",
            "Garage           0.016915\n",
            "Pool             0.001310\n",
            "House_Age       -0.114875\n",
            "Walkability      0.373675\n",
            "Crime_Rate      -0.651958\n",
            "Zipcode         -0.402891\n",
            "House_Price      0.081382\n",
            "Name: School_Rating, dtype: float64\n"
          ]
        },
        {
          "output_type": "display_data",
          "data": {
            "text/plain": [
              "<Figure size 1080x576 with 2 Axes>"
            ],
            "image/png": "[encoded data removed]"
          },
          "metadata": {
            "needs_background": "light"
          }
        }
      ]
    },
    {
      "cell_type": "code",
      "source": [
        "#1.4 Building Multiple linear regression\n",
        "\n",
        "HouseTraining.describe()"
      ],
      "metadata": {
        "colab": {
          "base_uri": "https://localhost:8080/",
          "height": 297
        },
        "id": "WcBU48V2cNIx",
        "outputId": "81aa52ad-19d2-42f4-a3f4-74e43e1f9573"
      },
      "id": "WcBU48V2cNIx",
      "execution_count": 120,
      "outputs": [
        {
          "output_type": "execute_result",
          "data": {
            "text/plain": [
              "       School_Rating   House_Area     Lot_Area     Room_No   Bath_No  \\\n",
              "count     400.000000   400.000000   400.000000  400.000000  400.0000   \n",
              "mean        7.105000  2770.080000  5513.017500    3.940000    3.4500   \n",
              "std         0.995718   706.472662   970.565547    1.057922    1.1427   \n",
              "min         6.000000  1516.000000  3252.000000    2.000000    1.0000   \n",
              "25%         6.000000  2137.000000  4885.000000    3.000000    3.0000   \n",
              "50%         8.000000  2782.500000  5514.500000    4.000000    3.0000   \n",
              "75%         8.000000  3394.250000  6174.500000    5.000000    4.0000   \n",
              "max         8.000000  3954.000000  7671.000000    6.000000    6.0000   \n",
              "\n",
              "           Garage        Pool   House_Age  Walkability  Crime_Rate  \\\n",
              "count  400.000000  400.000000  400.000000   400.000000  400.000000   \n",
              "mean     0.507500    0.470000   37.680000     6.270000    5.347500   \n",
              "std      0.548357    0.499724   21.441477     1.122609    1.504128   \n",
              "min      0.000000    0.000000    1.000000     4.000000    3.000000   \n",
              "25%      0.000000    0.000000   18.000000     6.000000    4.000000   \n",
              "50%      0.000000    0.000000   39.000000     6.000000    5.000000   \n",
              "75%      1.000000    1.000000   56.250000     7.000000    6.000000   \n",
              "max      2.000000    1.000000   72.000000     8.000000    8.000000   \n",
              "\n",
              "            Zipcode   House_Price  \n",
              "count    400.000000  4.000000e+02  \n",
              "mean   20144.722500  1.069526e+07  \n",
              "std       29.796309  2.363794e+06  \n",
              "min    20104.000000  5.449000e+06  \n",
              "25%    20119.000000  8.852000e+06  \n",
              "50%    20140.000000  1.067050e+07  \n",
              "75%    20174.000000  1.248075e+07  \n",
              "max    20182.000000  1.576600e+07  "
            ],
            "text/html": [
              "\n",
              "  <div id=\"df-4d536b21-f980-4191-b1f0-977974d1c414\">\n",
              "    <div class=\"colab-df-container\">\n",
              "      <div>\n",
              "<style scoped>\n",
              "    .dataframe tbody tr th:only-of-type {\n",
              "        vertical-align: middle;\n",
              "    }\n",
              "\n",
              "    .dataframe tbody tr th {\n",
              "        vertical-align: top;\n",
              "    }\n",
              "\n",
              "    .dataframe thead th {\n",
              "        text-align: right;\n",
              "    }\n",
              "</style>\n",
              "<table border=\"1\" class=\"dataframe\">\n",
              "  <thead>\n",
              "    <tr style=\"text-align: right;\">\n",
              "      <th></th>\n",
              "      <th>School_Rating</th>\n",
              "      <th>House_Area</th>\n",
              "      <th>Lot_Area</th>\n",
              "      <th>Room_No</th>\n",
              "      <th>Bath_No</th>\n",
              "      <th>Garage</th>\n",
              "      <th>Pool</th>\n",
              "      <th>House_Age</th>\n",
              "      <th>Walkability</th>\n",
              "      <th>Crime_Rate</th>\n",
              "      <th>Zipcode</th>\n",
              "      <th>House_Price</th>\n",
              "    </tr>\n",
              "  </thead>\n",
              "  <tbody>\n",
              "    <tr>\n",
              "      <th>count</th>\n",
              "      <td>400.000000</td>\n",
              "      <td>400.000000</td>\n",
              "      <td>400.000000</td>\n",
              "      <td>400.000000</td>\n",
              "      <td>400.0000</td>\n",
              "      <td>400.000000</td>\n",
              "      <td>400.000000</td>\n",
              "      <td>400.000000</td>\n",
              "      <td>400.000000</td>\n",
              "      <td>400.000000</td>\n",
              "      <td>400.000000</td>\n",
              "      <td>4.000000e+02</td>\n",
              "    </tr>\n",
              "    <tr>\n",
              "      <th>mean</th>\n",
              "      <td>7.105000</td>\n",
              "      <td>2770.080000</td>\n",
              "      <td>5513.017500</td>\n",
              "      <td>3.940000</td>\n",
              "      <td>3.4500</td>\n",
              "      <td>0.507500</td>\n",
              "      <td>0.470000</td>\n",
              "      <td>37.680000</td>\n",
              "      <td>6.270000</td>\n",
              "      <td>5.347500</td>\n",
              "      <td>20144.722500</td>\n",
              "      <td>1.069526e+07</td>\n",
              "    </tr>\n",
              "    <tr>\n",
              "      <th>std</th>\n",
              "      <td>0.995718</td>\n",
              "      <td>706.472662</td>\n",
              "      <td>970.565547</td>\n",
              "      <td>1.057922</td>\n",
              "      <td>1.1427</td>\n",
              "      <td>0.548357</td>\n",
              "      <td>0.499724</td>\n",
              "      <td>21.441477</td>\n",
              "      <td>1.122609</td>\n",
              "      <td>1.504128</td>\n",
              "      <td>29.796309</td>\n",
              "      <td>2.363794e+06</td>\n",
              "    </tr>\n",
              "    <tr>\n",
              "      <th>min</th>\n",
              "      <td>6.000000</td>\n",
              "      <td>1516.000000</td>\n",
              "      <td>3252.000000</td>\n",
              "      <td>2.000000</td>\n",
              "      <td>1.0000</td>\n",
              "      <td>0.000000</td>\n",
              "      <td>0.000000</td>\n",
              "      <td>1.000000</td>\n",
              "      <td>4.000000</td>\n",
              "      <td>3.000000</td>\n",
              "      <td>20104.000000</td>\n",
              "      <td>5.449000e+06</td>\n",
              "    </tr>\n",
              "    <tr>\n",
              "      <th>25%</th>\n",
              "      <td>6.000000</td>\n",
              "      <td>2137.000000</td>\n",
              "      <td>4885.000000</td>\n",
              "      <td>3.000000</td>\n",
              "      <td>3.0000</td>\n",
              "      <td>0.000000</td>\n",
              "      <td>0.000000</td>\n",
              "      <td>18.000000</td>\n",
              "      <td>6.000000</td>\n",
              "      <td>4.000000</td>\n",
              "      <td>20119.000000</td>\n",
              "      <td>8.852000e+06</td>\n",
              "    </tr>\n",
              "    <tr>\n",
              "      <th>50%</th>\n",
              "      <td>8.000000</td>\n",
              "      <td>2782.500000</td>\n",
              "      <td>5514.500000</td>\n",
              "      <td>4.000000</td>\n",
              "      <td>3.0000</td>\n",
              "      <td>0.000000</td>\n",
              "      <td>0.000000</td>\n",
              "      <td>39.000000</td>\n",
              "      <td>6.000000</td>\n",
              "      <td>5.000000</td>\n",
              "      <td>20140.000000</td>\n",
              "      <td>1.067050e+07</td>\n",
              "    </tr>\n",
              "    <tr>\n",
              "      <th>75%</th>\n",
              "      <td>8.000000</td>\n",
              "      <td>3394.250000</td>\n",
              "      <td>6174.500000</td>\n",
              "      <td>5.000000</td>\n",
              "      <td>4.0000</td>\n",
              "      <td>1.000000</td>\n",
              "      <td>1.000000</td>\n",
              "      <td>56.250000</td>\n",
              "      <td>7.000000</td>\n",
              "      <td>6.000000</td>\n",
              "      <td>20174.000000</td>\n",
              "      <td>1.248075e+07</td>\n",
              "    </tr>\n",
              "    <tr>\n",
              "      <th>max</th>\n",
              "      <td>8.000000</td>\n",
              "      <td>3954.000000</td>\n",
              "      <td>7671.000000</td>\n",
              "      <td>6.000000</td>\n",
              "      <td>6.0000</td>\n",
              "      <td>2.000000</td>\n",
              "      <td>1.000000</td>\n",
              "      <td>72.000000</td>\n",
              "      <td>8.000000</td>\n",
              "      <td>8.000000</td>\n",
              "      <td>20182.000000</td>\n",
              "      <td>1.576600e+07</td>\n",
              "    </tr>\n",
              "  </tbody>\n",
              "</table>\n",
              "</div>\n",
              "      <button class=\"colab-df-convert\" onclick=\"convertToInteractive('df-4d536b21-f980-4191-b1f0-977974d1c414')\"\n",
              "              title=\"Convert this dataframe to an interactive table.\"\n",
              "              style=\"display:none;\">\n",
              "        \n",
              "  <svg xmlns=\"http://www.w3.org/2000/svg\" height=\"24px\"viewBox=\"0 0 24 24\"\n",
              "       width=\"24px\">\n",
              "    <path d=\"M0 0h24v24H0V0z\" fill=\"none\"/>\n",
              "    <path d=\"M18.56 5.44l.94 2.06.94-2.06 2.06-.94-2.06-.94-.94-2.06-.94 2.06-2.06.94zm-11 1L8.5 8.5l.94-2.06 2.06-.94-2.06-.94L8.5 2.5l-.94 2.06-2.06.94zm10 10l.94 2.06.94-2.06 2.06-.94-2.06-.94-.94-2.06-.94 2.06-2.06.94z\"/><path d=\"M17.41 7.96l-1.37-1.37c-.4-.4-.92-.59-1.43-.59-.52 0-1.04.2-1.43.59L10.3 9.45l-7.72 7.72c-.78.78-.78 2.05 0 2.83L4 21.41c.39.39.9.59 1.41.59.51 0 1.02-.2 1.41-.59l7.78-7.78 2.81-2.81c.8-.78.8-2.07 0-2.86zM5.41 20L4 18.59l7.72-7.72 1.47 1.35L5.41 20z\"/>\n",
              "  </svg>\n",
              "      </button>\n",
              "      \n",
              "  <style>\n",
              "    .colab-df-container {\n",
              "      display:flex;\n",
              "      flex-wrap:wrap;\n",
              "      gap: 12px;\n",
              "    }\n",
              "\n",
              "    .colab-df-convert {\n",
              "      background-color: #E8F0FE;\n",
              "      border: none;\n",
              "      border-radius: 50%;\n",
              "      cursor: pointer;\n",
              "      display: none;\n",
              "      fill: #1967D2;\n",
              "      height: 32px;\n",
              "      padding: 0 0 0 0;\n",
              "      width: 32px;\n",
              "    }\n",
              "\n",
              "    .colab-df-convert:hover {\n",
              "      background-color: #E2EBFA;\n",
              "      box-shadow: 0px 1px 2px rgba(60, 64, 67, 0.3), 0px 1px 3px 1px rgba(60, 64, 67, 0.15);\n",
              "      fill: #174EA6;\n",
              "    }\n",
              "\n",
              "    [theme=dark] .colab-df-convert {\n",
              "      background-color: #3B4455;\n",
              "      fill: #D2E3FC;\n",
              "    }\n",
              "\n",
              "    [theme=dark] .colab-df-convert:hover {\n",
              "      background-color: #434B5C;\n",
              "      box-shadow: 0px 1px 3px 1px rgba(0, 0, 0, 0.15);\n",
              "      filter: drop-shadow(0px 1px 2px rgba(0, 0, 0, 0.3));\n",
              "      fill: #FFFFFF;\n",
              "    }\n",
              "  </style>\n",
              "\n",
              "      <script>\n",
              "        const buttonEl =\n",
              "          document.querySelector('#df-4d536b21-f980-4191-b1f0-977974d1c414 button.colab-df-convert');\n",
              "        buttonEl.style.display =\n",
              "          google.colab.kernel.accessAllowed ? 'block' : 'none';\n",
              "\n",
              "        async function convertToInteractive(key) {\n",
              "          const element = document.querySelector('#df-4d536b21-f980-4191-b1f0-977974d1c414');\n",
              "          const dataTable =\n",
              "            await google.colab.kernel.invokeFunction('convertToInteractive',\n",
              "                                                     [key], {});\n",
              "          if (!dataTable) return;\n",
              "\n",
              "          const docLinkHtml = 'Like what you see? Visit the ' +\n",
              "            '<a target=\"_blank\" href=https://colab.research.google.com/notebooks/data_table.ipynb>data table notebook</a>'\n",
              "            + ' to learn more about interactive tables.';\n",
              "          element.innerHTML = '';\n",
              "          dataTable['output_type'] = 'display_data';\n",
              "          await google.colab.output.renderOutput(dataTable, element);\n",
              "          const docLink = document.createElement('div');\n",
              "          docLink.innerHTML = docLinkHtml;\n",
              "          element.appendChild(docLink);\n",
              "        }\n",
              "      </script>\n",
              "    </div>\n",
              "  </div>\n",
              "  "
            ]
          },
          "metadata": {},
          "execution_count": 120
        }
      ]
    },
    {
      "cell_type": "code",
      "source": [
        "# splitting the data set into training and testing\n",
        "\n",
        "X= HouseTraining.iloc[:, :-1]\n",
        "y= HouseTraining.iloc[:,-1]\n",
        "\n",
        "X_train,X_test,y_train,y_test = train_test_split(X,y, test_size= 0.2, random_state= 1)\n",
        "\n",
        "print(X_train.shape)\n",
        "print(y_train.shape)\n",
        "print(X_test.shape)\n",
        "print(y_test.shape)"
      ],
      "metadata": {
        "colab": {
          "base_uri": "https://localhost:8080/"
        },
        "id": "8bn3bWRcdFhd",
        "outputId": "73c5d63c-c236-499c-9274-135dfb8e34eb"
      },
      "id": "8bn3bWRcdFhd",
      "execution_count": 121,
      "outputs": [
        {
          "output_type": "stream",
          "name": "stdout",
          "text": [
            "(320, 11)\n",
            "(320,)\n",
            "(80, 11)\n",
            "(80,)\n"
          ]
        }
      ]
    },
    {
      "cell_type": "code",
      "source": [
        "#Data Visualization\n",
        "\n",
        "HouseTraining.hist(layout=(8,4),figsize=(14,20))\n",
        "plt.show()"
      ],
      "metadata": {
        "colab": {
          "base_uri": "https://localhost:8080/",
          "height": 464
        },
        "id": "leiR2rkEeaB3",
        "outputId": "8903c103-3216-4e01-d844-600168cc2e9d"
      },
      "id": "leiR2rkEeaB3",
      "execution_count": 122,
      "outputs": [
        {
          "output_type": "display_data",
          "data": {
            "text/plain": [
              "<Figure size 1008x1440 with 32 Axes>"
            ],
            "image/png": "[encoded data removed]"
          },
          "metadata": {
            "needs_background": "light"
          }
        }
      ]
    },
    {
      "cell_type": "code",
      "source": [
        "from sklearn.metrics import mean_squared_error\n",
        "\n",
        "lin_reg = LinearRegression()\n",
        "\n",
        "lin_reg.fit(X_train, y_train)\n",
        "\n",
        "y_train_predict = lin_reg.predict(X_train)\n",
        "rmse = (np.sqrt(mean_squared_error(y_train, y_train_predict)))\n",
        "r2 = r2_score(y_train, y_train_predict)\n",
        "\n",
        "print(\"The model performance for training set\")\n",
        "print(\"--------------------------------------\")\n",
        "print('RMSE is {}'.format(rmse))          #although it looks to be high value due to value range of house prices, when actually calculated rmse/(max house price-min house price) is 0.028 which is low.\n",
        "print('R2 score is {}'.format(r2))\n",
        "print(\"\\n\")"
      ],
      "metadata": {
        "colab": {
          "base_uri": "https://localhost:8080/"
        },
        "id": "dNDBwP5BeqXw",
        "outputId": "4e3f0931-c6c4-40d1-fec7-5dd60b4ce33c"
      },
      "id": "dNDBwP5BeqXw",
      "execution_count": 123,
      "outputs": [
        {
          "output_type": "stream",
          "name": "stdout",
          "text": [
            "The model performance for training set\n",
            "--------------------------------------\n",
            "RMSE is 303211.49909236486\n",
            "R2 score is 0.9846839530376676\n",
            "\n",
            "\n"
          ]
        }
      ]
    },
    {
      "cell_type": "code",
      "source": [
        "#feature selection\n",
        "\n",
        "print(\"Feature data dimension: \", X.shape)\n",
        "\n",
        "select = SelectKBest(score_func=f_regression, k=5)\n",
        "z = select.fit_transform(X, y)\n",
        "print(\"After selecting best k features:\", z.shape)"
      ],
      "metadata": {
        "colab": {
          "base_uri": "https://localhost:8080/"
        },
        "id": "Fvop3R_xg3K-",
        "outputId": "1145d754-290d-4a59-fae5-c3d266c7842f"
      },
      "id": "Fvop3R_xg3K-",
      "execution_count": 148,
      "outputs": [
        {
          "output_type": "stream",
          "name": "stdout",
          "text": [
            "Feature data dimension:  (400, 11)\n",
            "After selecting best k features: (400, 5)\n"
          ]
        }
      ]
    },
    {
      "cell_type": "code",
      "source": [
        "filter = select.get_support()\n",
        "features = np.array(X.columns.tolist())\n",
        " \n",
        "print(\"Selected best features:\")\n",
        "print(features[filter])\n",
        "\n"
      ],
      "metadata": {
        "colab": {
          "base_uri": "https://localhost:8080/"
        },
        "id": "FWOJij4whUi8",
        "outputId": "2882138c-ddd3-4f02-b840-d4c5027a597c"
      },
      "id": "FWOJij4whUi8",
      "execution_count": 149,
      "outputs": [
        {
          "output_type": "stream",
          "name": "stdout",
          "text": [
            "Selected best features:\n",
            "['House_Area' 'Lot_Area' 'Room_No' 'Bath_No' 'Crime_Rate']\n"
          ]
        }
      ]
    },
    {
      "cell_type": "code",
      "source": [
        "#Linear regression model using best features.\n",
        "\n",
        "X_filtered = X.iloc[:,filter]\n",
        "X_train, X_test, y_train, y_test = train_test_split(X_filtered, y, test_size=0.2, random_state= 1)\n",
        "\n",
        "linreg = LinearRegression()\n",
        "linreg.fit(X_train, y_train)\n",
        "yhat = linreg.predict(X_train)\n",
        "\n",
        "# model evaluation for training set\n",
        "rmse = (np.sqrt(mean_squared_error(y_train, yhat)))\n",
        "r2 = r2_score(y_train, yhat)\n",
        "\n",
        "print(\"The model performance for training set:\")\n",
        "print('RMSE is {}'.format(rmse))\n",
        "print('R2 score is {}'.format(r2))\n",
        "print(\"\\n\")\n",
        "\n",
        "# model evaluation for testing set\n",
        "y_test_hat = linreg.predict(X_test)\n",
        "rmse = (np.sqrt(mean_squared_error(y_test, y_test_hat)))\n",
        "r2 = r2_score(y_test, y_test_hat)\n",
        "\n",
        "print(\"The model performance for testing set:\")\n",
        "print('RMSE is {}'.format(rmse))\n",
        "print('R2 score is {}'.format(r2))"
      ],
      "metadata": {
        "colab": {
          "base_uri": "https://localhost:8080/"
        },
        "id": "Oj_fPWkBhcbW",
        "outputId": "c4c7ee14-4f8b-45c6-f4ef-4a790c931753"
      },
      "id": "Oj_fPWkBhcbW",
      "execution_count": 150,
      "outputs": [
        {
          "output_type": "stream",
          "name": "stdout",
          "text": [
            "The model performance for training set:\n",
            "RMSE is 306849.79649238294\n",
            "R2 score is 0.9843141869971007\n",
            "\n",
            "\n",
            "The model performance for testing set:\n",
            "RMSE is 303762.84725508187\n",
            "R2 score is 0.9759281880466723\n"
          ]
        }
      ]
    },
    {
      "cell_type": "code",
      "source": [
        "#calculating the maximum relative error using  100∗max|(𝑦𝑖−𝑦̂𝑖)/𝑦𝑖| for test data.\n",
        "\n",
        "y_test= list(y_test)\n",
        "rel_list=[]\n",
        "for i in range(len(y_test)):\n",
        "   relative_err_max= 100* np.abs((y_test[i]-y_test_hat[i])/y_test[i])\n",
        "   rel_list.append(relative_err_max)\n",
        "\n",
        "print(\"maximum relative error for test data is:\", max(rel_list))\n"
      ],
      "metadata": {
        "colab": {
          "base_uri": "https://localhost:8080/"
        },
        "id": "heOfgHj-Ly3l",
        "outputId": "b1909cc2-c49b-4023-d652-57c320aa0e1f"
      },
      "id": "heOfgHj-Ly3l",
      "execution_count": 128,
      "outputs": [
        {
          "output_type": "stream",
          "name": "stdout",
          "text": [
            "maximum relative error for test data is: 5.776337533655608\n"
          ]
        }
      ]
    },
    {
      "cell_type": "code",
      "source": [
        "#1.5 validating the model on test data set\n",
        "\n",
        "HouseTest = pd.read_csv(\"https://raw.githubusercontent.com/simsekergun/DATA601/main/Datasets/HouseTest.csv\")\n",
        "HouseTest.drop(HouseTest.columns[[0]],axis=1, inplace= True)\n",
        "HouseTest"
      ],
      "metadata": {
        "colab": {
          "base_uri": "https://localhost:8080/",
          "height": 359
        },
        "id": "M-hG3iYbjD12",
        "outputId": "dfa5712c-cd09-4709-98eb-faf436b8d473"
      },
      "id": "M-hG3iYbjD12",
      "execution_count": 129,
      "outputs": [
        {
          "output_type": "execute_result",
          "data": {
            "text/plain": [
              "   School_Rating  House_Area  Lot_Area  Room_No  Bath_No  Garage  Pool  \\\n",
              "0              8        2030      4715      3.0      2.0     1.0   1.0   \n",
              "1              8        1739      5499      2.0      2.0     0.0   1.0   \n",
              "2              7        3628      5689      5.0      5.0     1.0   0.0   \n",
              "3              4        2019      5441      3.0      2.0     0.0   0.0   \n",
              "4              9        2311      6227      3.0      3.0     1.0   0.0   \n",
              "5              8        3662      6049      5.0      4.0     1.0   0.0   \n",
              "6              4        2545      5728      4.0      3.0     1.0   1.0   \n",
              "7              9        3050      5876      4.0      4.0     0.0   1.0   \n",
              "8              7        3079      6930      4.0      4.0     0.0   1.0   \n",
              "9              7        1718      3883      2.0      1.0     0.0   0.0   \n",
              "\n",
              "   House_Age  Walkability  Crime_Rate  Zipcode  \n",
              "0         48          7.0           4    20166  \n",
              "1         37          8.0           3    20166  \n",
              "2         59          6.0           4    20170  \n",
              "3          2          4.0           8    20124  \n",
              "4         17          8.0           5    20165  \n",
              "5         41          5.0           6    20166  \n",
              "6         43          5.0           8    20124  \n",
              "7          2          6.0           5    20165  \n",
              "8          9          6.0           4    20189  \n",
              "9         10          8.0           5    20189  "
            ],
            "text/html": [
              "\n",
              "  <div id=\"df-600d7817-86e0-4709-a9cf-b44c4adef886\">\n",
              "    <div class=\"colab-df-container\">\n",
              "      <div>\n",
              "<style scoped>\n",
              "    .dataframe tbody tr th:only-of-type {\n",
              "        vertical-align: middle;\n",
              "    }\n",
              "\n",
              "    .dataframe tbody tr th {\n",
              "        vertical-align: top;\n",
              "    }\n",
              "\n",
              "    .dataframe thead th {\n",
              "        text-align: right;\n",
              "    }\n",
              "</style>\n",
              "<table border=\"1\" class=\"dataframe\">\n",
              "  <thead>\n",
              "    <tr style=\"text-align: right;\">\n",
              "      <th></th>\n",
              "      <th>School_Rating</th>\n",
              "      <th>House_Area</th>\n",
              "      <th>Lot_Area</th>\n",
              "      <th>Room_No</th>\n",
              "      <th>Bath_No</th>\n",
              "      <th>Garage</th>\n",
              "      <th>Pool</th>\n",
              "      <th>House_Age</th>\n",
              "      <th>Walkability</th>\n",
              "      <th>Crime_Rate</th>\n",
              "      <th>Zipcode</th>\n",
              "    </tr>\n",
              "  </thead>\n",
              "  <tbody>\n",
              "    <tr>\n",
              "      <th>0</th>\n",
              "      <td>8</td>\n",
              "      <td>2030</td>\n",
              "      <td>4715</td>\n",
              "      <td>3.0</td>\n",
              "      <td>2.0</td>\n",
              "      <td>1.0</td>\n",
              "      <td>1.0</td>\n",
              "      <td>48</td>\n",
              "      <td>7.0</td>\n",
              "      <td>4</td>\n",
              "      <td>20166</td>\n",
              "    </tr>\n",
              "    <tr>\n",
              "      <th>1</th>\n",
              "      <td>8</td>\n",
              "      <td>1739</td>\n",
              "      <td>5499</td>\n",
              "      <td>2.0</td>\n",
              "      <td>2.0</td>\n",
              "      <td>0.0</td>\n",
              "      <td>1.0</td>\n",
              "      <td>37</td>\n",
              "      <td>8.0</td>\n",
              "      <td>3</td>\n",
              "      <td>20166</td>\n",
              "    </tr>\n",
              "    <tr>\n",
              "      <th>2</th>\n",
              "      <td>7</td>\n",
              "      <td>3628</td>\n",
              "      <td>5689</td>\n",
              "      <td>5.0</td>\n",
              "      <td>5.0</td>\n",
              "      <td>1.0</td>\n",
              "      <td>0.0</td>\n",
              "      <td>59</td>\n",
              "      <td>6.0</td>\n",
              "      <td>4</td>\n",
              "      <td>20170</td>\n",
              "    </tr>\n",
              "    <tr>\n",
              "      <th>3</th>\n",
              "      <td>4</td>\n",
              "      <td>2019</td>\n",
              "      <td>5441</td>\n",
              "      <td>3.0</td>\n",
              "      <td>2.0</td>\n",
              "      <td>0.0</td>\n",
              "      <td>0.0</td>\n",
              "      <td>2</td>\n",
              "      <td>4.0</td>\n",
              "      <td>8</td>\n",
              "      <td>20124</td>\n",
              "    </tr>\n",
              "    <tr>\n",
              "      <th>4</th>\n",
              "      <td>9</td>\n",
              "      <td>2311</td>\n",
              "      <td>6227</td>\n",
              "      <td>3.0</td>\n",
              "      <td>3.0</td>\n",
              "      <td>1.0</td>\n",
              "      <td>0.0</td>\n",
              "      <td>17</td>\n",
              "      <td>8.0</td>\n",
              "      <td>5</td>\n",
              "      <td>20165</td>\n",
              "    </tr>\n",
              "    <tr>\n",
              "      <th>5</th>\n",
              "      <td>8</td>\n",
              "      <td>3662</td>\n",
              "      <td>6049</td>\n",
              "      <td>5.0</td>\n",
              "      <td>4.0</td>\n",
              "      <td>1.0</td>\n",
              "      <td>0.0</td>\n",
              "      <td>41</td>\n",
              "      <td>5.0</td>\n",
              "      <td>6</td>\n",
              "      <td>20166</td>\n",
              "    </tr>\n",
              "    <tr>\n",
              "      <th>6</th>\n",
              "      <td>4</td>\n",
              "      <td>2545</td>\n",
              "      <td>5728</td>\n",
              "      <td>4.0</td>\n",
              "      <td>3.0</td>\n",
              "      <td>1.0</td>\n",
              "      <td>1.0</td>\n",
              "      <td>43</td>\n",
              "      <td>5.0</td>\n",
              "      <td>8</td>\n",
              "      <td>20124</td>\n",
              "    </tr>\n",
              "    <tr>\n",
              "      <th>7</th>\n",
              "      <td>9</td>\n",
              "      <td>3050</td>\n",
              "      <td>5876</td>\n",
              "      <td>4.0</td>\n",
              "      <td>4.0</td>\n",
              "      <td>0.0</td>\n",
              "      <td>1.0</td>\n",
              "      <td>2</td>\n",
              "      <td>6.0</td>\n",
              "      <td>5</td>\n",
              "      <td>20165</td>\n",
              "    </tr>\n",
              "    <tr>\n",
              "      <th>8</th>\n",
              "      <td>7</td>\n",
              "      <td>3079</td>\n",
              "      <td>6930</td>\n",
              "      <td>4.0</td>\n",
              "      <td>4.0</td>\n",
              "      <td>0.0</td>\n",
              "      <td>1.0</td>\n",
              "      <td>9</td>\n",
              "      <td>6.0</td>\n",
              "      <td>4</td>\n",
              "      <td>20189</td>\n",
              "    </tr>\n",
              "    <tr>\n",
              "      <th>9</th>\n",
              "      <td>7</td>\n",
              "      <td>1718</td>\n",
              "      <td>3883</td>\n",
              "      <td>2.0</td>\n",
              "      <td>1.0</td>\n",
              "      <td>0.0</td>\n",
              "      <td>0.0</td>\n",
              "      <td>10</td>\n",
              "      <td>8.0</td>\n",
              "      <td>5</td>\n",
              "      <td>20189</td>\n",
              "    </tr>\n",
              "  </tbody>\n",
              "</table>\n",
              "</div>\n",
              "      <button class=\"colab-df-convert\" onclick=\"convertToInteractive('df-600d7817-86e0-4709-a9cf-b44c4adef886')\"\n",
              "              title=\"Convert this dataframe to an interactive table.\"\n",
              "              style=\"display:none;\">\n",
              "        \n",
              "  <svg xmlns=\"http://www.w3.org/2000/svg\" height=\"24px\"viewBox=\"0 0 24 24\"\n",
              "       width=\"24px\">\n",
              "    <path d=\"M0 0h24v24H0V0z\" fill=\"none\"/>\n",
              "    <path d=\"M18.56 5.44l.94 2.06.94-2.06 2.06-.94-2.06-.94-.94-2.06-.94 2.06-2.06.94zm-11 1L8.5 8.5l.94-2.06 2.06-.94-2.06-.94L8.5 2.5l-.94 2.06-2.06.94zm10 10l.94 2.06.94-2.06 2.06-.94-2.06-.94-.94-2.06-.94 2.06-2.06.94z\"/><path d=\"M17.41 7.96l-1.37-1.37c-.4-.4-.92-.59-1.43-.59-.52 0-1.04.2-1.43.59L10.3 9.45l-7.72 7.72c-.78.78-.78 2.05 0 2.83L4 21.41c.39.39.9.59 1.41.59.51 0 1.02-.2 1.41-.59l7.78-7.78 2.81-2.81c.8-.78.8-2.07 0-2.86zM5.41 20L4 18.59l7.72-7.72 1.47 1.35L5.41 20z\"/>\n",
              "  </svg>\n",
              "      </button>\n",
              "      \n",
              "  <style>\n",
              "    .colab-df-container {\n",
              "      display:flex;\n",
              "      flex-wrap:wrap;\n",
              "      gap: 12px;\n",
              "    }\n",
              "\n",
              "    .colab-df-convert {\n",
              "      background-color: #E8F0FE;\n",
              "      border: none;\n",
              "      border-radius: 50%;\n",
              "      cursor: pointer;\n",
              "      display: none;\n",
              "      fill: #1967D2;\n",
              "      height: 32px;\n",
              "      padding: 0 0 0 0;\n",
              "      width: 32px;\n",
              "    }\n",
              "\n",
              "    .colab-df-convert:hover {\n",
              "      background-color: #E2EBFA;\n",
              "      box-shadow: 0px 1px 2px rgba(60, 64, 67, 0.3), 0px 1px 3px 1px rgba(60, 64, 67, 0.15);\n",
              "      fill: #174EA6;\n",
              "    }\n",
              "\n",
              "    [theme=dark] .colab-df-convert {\n",
              "      background-color: #3B4455;\n",
              "      fill: #D2E3FC;\n",
              "    }\n",
              "\n",
              "    [theme=dark] .colab-df-convert:hover {\n",
              "      background-color: #434B5C;\n",
              "      box-shadow: 0px 1px 3px 1px rgba(0, 0, 0, 0.15);\n",
              "      filter: drop-shadow(0px 1px 2px rgba(0, 0, 0, 0.3));\n",
              "      fill: #FFFFFF;\n",
              "    }\n",
              "  </style>\n",
              "\n",
              "      <script>\n",
              "        const buttonEl =\n",
              "          document.querySelector('#df-600d7817-86e0-4709-a9cf-b44c4adef886 button.colab-df-convert');\n",
              "        buttonEl.style.display =\n",
              "          google.colab.kernel.accessAllowed ? 'block' : 'none';\n",
              "\n",
              "        async function convertToInteractive(key) {\n",
              "          const element = document.querySelector('#df-600d7817-86e0-4709-a9cf-b44c4adef886');\n",
              "          const dataTable =\n",
              "            await google.colab.kernel.invokeFunction('convertToInteractive',\n",
              "                                                     [key], {});\n",
              "          if (!dataTable) return;\n",
              "\n",
              "          const docLinkHtml = 'Like what you see? Visit the ' +\n",
              "            '<a target=\"_blank\" href=https://colab.research.google.com/notebooks/data_table.ipynb>data table notebook</a>'\n",
              "            + ' to learn more about interactive tables.';\n",
              "          element.innerHTML = '';\n",
              "          dataTable['output_type'] = 'display_data';\n",
              "          await google.colab.output.renderOutput(dataTable, element);\n",
              "          const docLink = document.createElement('div');\n",
              "          docLink.innerHTML = docLinkHtml;\n",
              "          element.appendChild(docLink);\n",
              "        }\n",
              "      </script>\n",
              "    </div>\n",
              "  </div>\n",
              "  "
            ]
          },
          "metadata": {},
          "execution_count": 129
        }
      ]
    },
    {
      "cell_type": "code",
      "source": [
        "test_filtered = HouseTest.iloc[:,filter]\n",
        "\n",
        "yhat_test= linreg.predict(test_filtered)\n",
        "\n",
        "print(yhat_test)"
      ],
      "metadata": {
        "colab": {
          "base_uri": "https://localhost:8080/"
        },
        "id": "xPTsLHRyjiXc",
        "outputId": "9bc49d16-9fba-4231-bbcd-4d759da8e3e9"
      },
      "id": "xPTsLHRyjiXc",
      "execution_count": 130,
      "outputs": [
        {
          "output_type": "stream",
          "name": "stdout",
          "text": [
            "[ 8583738.22681613  8996895.74555668 12931218.77143903  8506033.18288467\n",
            " 10558856.43229138 12969729.28550456  9920136.38567409 11713420.58936005\n",
            " 13112330.18672808  6803109.27719068]\n"
          ]
        }
      ]
    },
    {
      "cell_type": "markdown",
      "id": "d41f9847-94e1-4cd8-8d0c-09b353bcf1e8",
      "metadata": {
        "id": "d41f9847-94e1-4cd8-8d0c-09b353bcf1e8"
      },
      "source": [
        "## Q2. (10 points)"
      ]
    },
    {
      "cell_type": "markdown",
      "id": "fed6b1fa-9698-4a90-9431-8c0be84a8691",
      "metadata": {
        "id": "fed6b1fa-9698-4a90-9431-8c0be84a8691"
      },
      "source": [
        "The Default data set of the ISLR2 package contains data about ten thousand customers. We know the balance of their bank account, their annual income and whether they are a student. You can download the dataset here: https://github.com/simsekergun/DATA601/blob/main/Datasets/Default.xlsx?raw=true'"
      ]
    },
    {
      "cell_type": "markdown",
      "id": "e0cacba4-a30a-435a-8ce1-2417f9a1ea59",
      "metadata": {
        "id": "e0cacba4-a30a-435a-8ce1-2417f9a1ea59"
      },
      "source": [
        "Let's replace yes' and no's with 1's and 0's using the factorize() function. Note that factorize() returns two objects: a label array and an array with the unique values. We are only interested in the first object, i.e. <br>\n",
        "<code>df = pd.read_excel('https://github.com/simsekergun/DATA601/blob/main/Datasets/Default.xlsx?raw=true',index_col=[0]) </code> <br>\n",
        "<code>df['default'] = df.default.factorize()[0]</code>  <br>\n",
        "<code>df['student'] = df.student.factorize()[0]</code> <br>\n"
      ]
    },
    {
      "cell_type": "markdown",
      "id": "232a3cc0-5917-4260-85f2-ef17717c62b0",
      "metadata": {
        "id": "232a3cc0-5917-4260-85f2-ef17717c62b0"
      },
      "source": [
        "Here the steps/questions you need to follow <br>\n",
        "<b>2.1</b> Plot the histograms of the features in this dataset. What kinds of distributions do you see? <br>\n",
        "<b>2.2</b> Boxplot 'default vs balance' and 'default vs income'. Which one has outliers? <br> \n",
        "<b>2.3</b> Split your dataset into two (training 80\\%, validation (testing) \\%20, random_state=1). Build a simple logistic regression model to predict default from balance feature only. Create the confusion matric and calculate accuracy, sensitivity, and specificity. <br> \n",
        "<b>2.4</b> Repeat 2.3 but this time use 'balance', 'income', and 'student' features to predict the default with a multiple logistic regression model. Create the confusion matric and calculate accuracy, sensitivity, and specificity.  <br>\n",
        "<b>2.5</b> What does having a high sensitivity and a low specificity mean?<br>"
      ]
    },
    {
      "cell_type": "code",
      "source": [
        "df = pd.read_excel('https://github.com/simsekergun/DATA601/blob/main/Datasets/Default.xlsx?raw=true') \n",
        "df.drop(df.columns[[0]], axis=1,inplace=True)\n",
        "df.head()"
      ],
      "metadata": {
        "id": "bBRobdFd6uuR",
        "colab": {
          "base_uri": "https://localhost:8080/",
          "height": 238
        },
        "outputId": "56156ef5-bdec-424d-8574-a42ddc846f7c"
      },
      "id": "bBRobdFd6uuR",
      "execution_count": 131,
      "outputs": [
        {
          "output_type": "stream",
          "name": "stderr",
          "text": [
            "/usr/local/lib/python3.7/dist-packages/openpyxl/styles/stylesheet.py:226: UserWarning: Workbook contains no default style, apply openpyxl's default\n",
            "  warn(\"Workbook contains no default style, apply openpyxl's default\")\n"
          ]
        },
        {
          "output_type": "execute_result",
          "data": {
            "text/plain": [
              "  default student      balance        income\n",
              "0      No      No   729.526495  44361.625074\n",
              "1      No     Yes   817.180407  12106.134700\n",
              "2      No      No  1073.549164  31767.138947\n",
              "3      No      No   529.250605  35704.493935\n",
              "4      No      No   785.655883  38463.495879"
            ],
            "text/html": [
              "\n",
              "  <div id=\"df-6de6090d-3d19-40c6-a6e9-11c107219d3f\">\n",
              "    <div class=\"colab-df-container\">\n",
              "      <div>\n",
              "<style scoped>\n",
              "    .dataframe tbody tr th:only-of-type {\n",
              "        vertical-align: middle;\n",
              "    }\n",
              "\n",
              "    .dataframe tbody tr th {\n",
              "        vertical-align: top;\n",
              "    }\n",
              "\n",
              "    .dataframe thead th {\n",
              "        text-align: right;\n",
              "    }\n",
              "</style>\n",
              "<table border=\"1\" class=\"dataframe\">\n",
              "  <thead>\n",
              "    <tr style=\"text-align: right;\">\n",
              "      <th></th>\n",
              "      <th>default</th>\n",
              "      <th>student</th>\n",
              "      <th>balance</th>\n",
              "      <th>income</th>\n",
              "    </tr>\n",
              "  </thead>\n",
              "  <tbody>\n",
              "    <tr>\n",
              "      <th>0</th>\n",
              "      <td>No</td>\n",
              "      <td>No</td>\n",
              "      <td>729.526495</td>\n",
              "      <td>44361.625074</td>\n",
              "    </tr>\n",
              "    <tr>\n",
              "      <th>1</th>\n",
              "      <td>No</td>\n",
              "      <td>Yes</td>\n",
              "      <td>817.180407</td>\n",
              "      <td>12106.134700</td>\n",
              "    </tr>\n",
              "    <tr>\n",
              "      <th>2</th>\n",
              "      <td>No</td>\n",
              "      <td>No</td>\n",
              "      <td>1073.549164</td>\n",
              "      <td>31767.138947</td>\n",
              "    </tr>\n",
              "    <tr>\n",
              "      <th>3</th>\n",
              "      <td>No</td>\n",
              "      <td>No</td>\n",
              "      <td>529.250605</td>\n",
              "      <td>35704.493935</td>\n",
              "    </tr>\n",
              "    <tr>\n",
              "      <th>4</th>\n",
              "      <td>No</td>\n",
              "      <td>No</td>\n",
              "      <td>785.655883</td>\n",
              "      <td>38463.495879</td>\n",
              "    </tr>\n",
              "  </tbody>\n",
              "</table>\n",
              "</div>\n",
              "      <button class=\"colab-df-convert\" onclick=\"convertToInteractive('df-6de6090d-3d19-40c6-a6e9-11c107219d3f')\"\n",
              "              title=\"Convert this dataframe to an interactive table.\"\n",
              "              style=\"display:none;\">\n",
              "        \n",
              "  <svg xmlns=\"http://www.w3.org/2000/svg\" height=\"24px\"viewBox=\"0 0 24 24\"\n",
              "       width=\"24px\">\n",
              "    <path d=\"M0 0h24v24H0V0z\" fill=\"none\"/>\n",
              "    <path d=\"M18.56 5.44l.94 2.06.94-2.06 2.06-.94-2.06-.94-.94-2.06-.94 2.06-2.06.94zm-11 1L8.5 8.5l.94-2.06 2.06-.94-2.06-.94L8.5 2.5l-.94 2.06-2.06.94zm10 10l.94 2.06.94-2.06 2.06-.94-2.06-.94-.94-2.06-.94 2.06-2.06.94z\"/><path d=\"M17.41 7.96l-1.37-1.37c-.4-.4-.92-.59-1.43-.59-.52 0-1.04.2-1.43.59L10.3 9.45l-7.72 7.72c-.78.78-.78 2.05 0 2.83L4 21.41c.39.39.9.59 1.41.59.51 0 1.02-.2 1.41-.59l7.78-7.78 2.81-2.81c.8-.78.8-2.07 0-2.86zM5.41 20L4 18.59l7.72-7.72 1.47 1.35L5.41 20z\"/>\n",
              "  </svg>\n",
              "      </button>\n",
              "      \n",
              "  <style>\n",
              "    .colab-df-container {\n",
              "      display:flex;\n",
              "      flex-wrap:wrap;\n",
              "      gap: 12px;\n",
              "    }\n",
              "\n",
              "    .colab-df-convert {\n",
              "      background-color: #E8F0FE;\n",
              "      border: none;\n",
              "      border-radius: 50%;\n",
              "      cursor: pointer;\n",
              "      display: none;\n",
              "      fill: #1967D2;\n",
              "      height: 32px;\n",
              "      padding: 0 0 0 0;\n",
              "      width: 32px;\n",
              "    }\n",
              "\n",
              "    .colab-df-convert:hover {\n",
              "      background-color: #E2EBFA;\n",
              "      box-shadow: 0px 1px 2px rgba(60, 64, 67, 0.3), 0px 1px 3px 1px rgba(60, 64, 67, 0.15);\n",
              "      fill: #174EA6;\n",
              "    }\n",
              "\n",
              "    [theme=dark] .colab-df-convert {\n",
              "      background-color: #3B4455;\n",
              "      fill: #D2E3FC;\n",
              "    }\n",
              "\n",
              "    [theme=dark] .colab-df-convert:hover {\n",
              "      background-color: #434B5C;\n",
              "      box-shadow: 0px 1px 3px 1px rgba(0, 0, 0, 0.15);\n",
              "      filter: drop-shadow(0px 1px 2px rgba(0, 0, 0, 0.3));\n",
              "      fill: #FFFFFF;\n",
              "    }\n",
              "  </style>\n",
              "\n",
              "      <script>\n",
              "        const buttonEl =\n",
              "          document.querySelector('#df-6de6090d-3d19-40c6-a6e9-11c107219d3f button.colab-df-convert');\n",
              "        buttonEl.style.display =\n",
              "          google.colab.kernel.accessAllowed ? 'block' : 'none';\n",
              "\n",
              "        async function convertToInteractive(key) {\n",
              "          const element = document.querySelector('#df-6de6090d-3d19-40c6-a6e9-11c107219d3f');\n",
              "          const dataTable =\n",
              "            await google.colab.kernel.invokeFunction('convertToInteractive',\n",
              "                                                     [key], {});\n",
              "          if (!dataTable) return;\n",
              "\n",
              "          const docLinkHtml = 'Like what you see? Visit the ' +\n",
              "            '<a target=\"_blank\" href=https://colab.research.google.com/notebooks/data_table.ipynb>data table notebook</a>'\n",
              "            + ' to learn more about interactive tables.';\n",
              "          element.innerHTML = '';\n",
              "          dataTable['output_type'] = 'display_data';\n",
              "          await google.colab.output.renderOutput(dataTable, element);\n",
              "          const docLink = document.createElement('div');\n",
              "          docLink.innerHTML = docLinkHtml;\n",
              "          element.appendChild(docLink);\n",
              "        }\n",
              "      </script>\n",
              "    </div>\n",
              "  </div>\n",
              "  "
            ]
          },
          "metadata": {},
          "execution_count": 131
        }
      ]
    },
    {
      "cell_type": "code",
      "source": [
        "#Replacing No with 0 and yes with 1\n",
        "\n",
        "df['default'] = df.default.factorize()[0] \n",
        "df['student'] = df.student.factorize()[0] "
      ],
      "metadata": {
        "id": "Dm4pf2os6Ieh"
      },
      "id": "Dm4pf2os6Ieh",
      "execution_count": 132,
      "outputs": []
    },
    {
      "cell_type": "code",
      "source": [
        "df.head()"
      ],
      "metadata": {
        "colab": {
          "base_uri": "https://localhost:8080/",
          "height": 204
        },
        "id": "_S9wu5i76OiN",
        "outputId": "d0684cac-00cf-483d-94d1-b636d284783e"
      },
      "id": "_S9wu5i76OiN",
      "execution_count": 133,
      "outputs": [
        {
          "output_type": "execute_result",
          "data": {
            "text/plain": [
              "   default  student      balance        income\n",
              "0        0        0   729.526495  44361.625074\n",
              "1        0        1   817.180407  12106.134700\n",
              "2        0        0  1073.549164  31767.138947\n",
              "3        0        0   529.250605  35704.493935\n",
              "4        0        0   785.655883  38463.495879"
            ],
            "text/html": [
              "\n",
              "  <div id=\"df-d5a0af97-5027-4c05-9c7b-c8dde14b91b3\">\n",
              "    <div class=\"colab-df-container\">\n",
              "      <div>\n",
              "<style scoped>\n",
              "    .dataframe tbody tr th:only-of-type {\n",
              "        vertical-align: middle;\n",
              "    }\n",
              "\n",
              "    .dataframe tbody tr th {\n",
              "        vertical-align: top;\n",
              "    }\n",
              "\n",
              "    .dataframe thead th {\n",
              "        text-align: right;\n",
              "    }\n",
              "</style>\n",
              "<table border=\"1\" class=\"dataframe\">\n",
              "  <thead>\n",
              "    <tr style=\"text-align: right;\">\n",
              "      <th></th>\n",
              "      <th>default</th>\n",
              "      <th>student</th>\n",
              "      <th>balance</th>\n",
              "      <th>income</th>\n",
              "    </tr>\n",
              "  </thead>\n",
              "  <tbody>\n",
              "    <tr>\n",
              "      <th>0</th>\n",
              "      <td>0</td>\n",
              "      <td>0</td>\n",
              "      <td>729.526495</td>\n",
              "      <td>44361.625074</td>\n",
              "    </tr>\n",
              "    <tr>\n",
              "      <th>1</th>\n",
              "      <td>0</td>\n",
              "      <td>1</td>\n",
              "      <td>817.180407</td>\n",
              "      <td>12106.134700</td>\n",
              "    </tr>\n",
              "    <tr>\n",
              "      <th>2</th>\n",
              "      <td>0</td>\n",
              "      <td>0</td>\n",
              "      <td>1073.549164</td>\n",
              "      <td>31767.138947</td>\n",
              "    </tr>\n",
              "    <tr>\n",
              "      <th>3</th>\n",
              "      <td>0</td>\n",
              "      <td>0</td>\n",
              "      <td>529.250605</td>\n",
              "      <td>35704.493935</td>\n",
              "    </tr>\n",
              "    <tr>\n",
              "      <th>4</th>\n",
              "      <td>0</td>\n",
              "      <td>0</td>\n",
              "      <td>785.655883</td>\n",
              "      <td>38463.495879</td>\n",
              "    </tr>\n",
              "  </tbody>\n",
              "</table>\n",
              "</div>\n",
              "      <button class=\"colab-df-convert\" onclick=\"convertToInteractive('df-d5a0af97-5027-4c05-9c7b-c8dde14b91b3')\"\n",
              "              title=\"Convert this dataframe to an interactive table.\"\n",
              "              style=\"display:none;\">\n",
              "        \n",
              "  <svg xmlns=\"http://www.w3.org/2000/svg\" height=\"24px\"viewBox=\"0 0 24 24\"\n",
              "       width=\"24px\">\n",
              "    <path d=\"M0 0h24v24H0V0z\" fill=\"none\"/>\n",
              "    <path d=\"M18.56 5.44l.94 2.06.94-2.06 2.06-.94-2.06-.94-.94-2.06-.94 2.06-2.06.94zm-11 1L8.5 8.5l.94-2.06 2.06-.94-2.06-.94L8.5 2.5l-.94 2.06-2.06.94zm10 10l.94 2.06.94-2.06 2.06-.94-2.06-.94-.94-2.06-.94 2.06-2.06.94z\"/><path d=\"M17.41 7.96l-1.37-1.37c-.4-.4-.92-.59-1.43-.59-.52 0-1.04.2-1.43.59L10.3 9.45l-7.72 7.72c-.78.78-.78 2.05 0 2.83L4 21.41c.39.39.9.59 1.41.59.51 0 1.02-.2 1.41-.59l7.78-7.78 2.81-2.81c.8-.78.8-2.07 0-2.86zM5.41 20L4 18.59l7.72-7.72 1.47 1.35L5.41 20z\"/>\n",
              "  </svg>\n",
              "      </button>\n",
              "      \n",
              "  <style>\n",
              "    .colab-df-container {\n",
              "      display:flex;\n",
              "      flex-wrap:wrap;\n",
              "      gap: 12px;\n",
              "    }\n",
              "\n",
              "    .colab-df-convert {\n",
              "      background-color: #E8F0FE;\n",
              "      border: none;\n",
              "      border-radius: 50%;\n",
              "      cursor: pointer;\n",
              "      display: none;\n",
              "      fill: #1967D2;\n",
              "      height: 32px;\n",
              "      padding: 0 0 0 0;\n",
              "      width: 32px;\n",
              "    }\n",
              "\n",
              "    .colab-df-convert:hover {\n",
              "      background-color: #E2EBFA;\n",
              "      box-shadow: 0px 1px 2px rgba(60, 64, 67, 0.3), 0px 1px 3px 1px rgba(60, 64, 67, 0.15);\n",
              "      fill: #174EA6;\n",
              "    }\n",
              "\n",
              "    [theme=dark] .colab-df-convert {\n",
              "      background-color: #3B4455;\n",
              "      fill: #D2E3FC;\n",
              "    }\n",
              "\n",
              "    [theme=dark] .colab-df-convert:hover {\n",
              "      background-color: #434B5C;\n",
              "      box-shadow: 0px 1px 3px 1px rgba(0, 0, 0, 0.15);\n",
              "      filter: drop-shadow(0px 1px 2px rgba(0, 0, 0, 0.3));\n",
              "      fill: #FFFFFF;\n",
              "    }\n",
              "  </style>\n",
              "\n",
              "      <script>\n",
              "        const buttonEl =\n",
              "          document.querySelector('#df-d5a0af97-5027-4c05-9c7b-c8dde14b91b3 button.colab-df-convert');\n",
              "        buttonEl.style.display =\n",
              "          google.colab.kernel.accessAllowed ? 'block' : 'none';\n",
              "\n",
              "        async function convertToInteractive(key) {\n",
              "          const element = document.querySelector('#df-d5a0af97-5027-4c05-9c7b-c8dde14b91b3');\n",
              "          const dataTable =\n",
              "            await google.colab.kernel.invokeFunction('convertToInteractive',\n",
              "                                                     [key], {});\n",
              "          if (!dataTable) return;\n",
              "\n",
              "          const docLinkHtml = 'Like what you see? Visit the ' +\n",
              "            '<a target=\"_blank\" href=https://colab.research.google.com/notebooks/data_table.ipynb>data table notebook</a>'\n",
              "            + ' to learn more about interactive tables.';\n",
              "          element.innerHTML = '';\n",
              "          dataTable['output_type'] = 'display_data';\n",
              "          await google.colab.output.renderOutput(dataTable, element);\n",
              "          const docLink = document.createElement('div');\n",
              "          docLink.innerHTML = docLinkHtml;\n",
              "          element.appendChild(docLink);\n",
              "        }\n",
              "      </script>\n",
              "    </div>\n",
              "  </div>\n",
              "  "
            ]
          },
          "metadata": {},
          "execution_count": 133
        }
      ]
    },
    {
      "cell_type": "code",
      "source": [
        "#2.1 Plotting the histograms for the features in this dataset\n",
        "\n",
        "df.hist()\n",
        "plt.show()\n",
        "\n",
        "## we can see a normal distribution for balance and income features."
      ],
      "metadata": {
        "colab": {
          "base_uri": "https://localhost:8080/",
          "height": 281
        },
        "id": "KPRYCy6d6ugu",
        "outputId": "4d6fdf5c-d7aa-47b9-941a-5fe2ff9d2cee"
      },
      "id": "KPRYCy6d6ugu",
      "execution_count": 134,
      "outputs": [
        {
          "output_type": "display_data",
          "data": {
            "text/plain": [
              "<Figure size 432x288 with 4 Axes>"
            ],
            "image/png": "[encoded data removed]"
          },
          "metadata": {
            "needs_background": "light"
          }
        }
      ]
    },
    {
      "cell_type": "code",
      "source": [
        "# 2.2 boxplot of default Vs balance\n",
        "\n",
        "import seaborn as sns\n",
        "\n",
        "sns.boxplot(x='default', y='balance', data= df)         #Outliers found in default Vs balance\n"
      ],
      "metadata": {
        "colab": {
          "base_uri": "https://localhost:8080/",
          "height": 296
        },
        "id": "unX4Vzn-7S8e",
        "outputId": "41446556-f0e8-47e5-a6f1-735f08485f1d"
      },
      "id": "unX4Vzn-7S8e",
      "execution_count": 135,
      "outputs": [
        {
          "output_type": "execute_result",
          "data": {
            "text/plain": [
              "<matplotlib.axes._subplots.AxesSubplot at 0x7f8691757650>"
            ]
          },
          "metadata": {},
          "execution_count": 135
        },
        {
          "output_type": "display_data",
          "data": {
            "text/plain": [
              "<Figure size 432x288 with 1 Axes>"
            ],
            "image/png": "[encoded data removed]"
          },
          "metadata": {
            "needs_background": "light"
          }
        }
      ]
    },
    {
      "cell_type": "code",
      "source": [
        "# boxplot of default Vs income\n",
        "\n",
        "sns.boxplot(x='default', y='income', data= df)        #no outliers found in default Vs income"
      ],
      "metadata": {
        "colab": {
          "base_uri": "https://localhost:8080/",
          "height": 296
        },
        "id": "QeWSxlQa8tBJ",
        "outputId": "0b0753e6-f335-4673-e4db-766dcbc50c18"
      },
      "id": "QeWSxlQa8tBJ",
      "execution_count": 136,
      "outputs": [
        {
          "output_type": "execute_result",
          "data": {
            "text/plain": [
              "<matplotlib.axes._subplots.AxesSubplot at 0x7f8691892050>"
            ]
          },
          "metadata": {},
          "execution_count": 136
        },
        {
          "output_type": "display_data",
          "data": {
            "text/plain": [
              "<Figure size 432x288 with 1 Axes>"
            ],
            "image/png": "[encoded data removed]"
          },
          "metadata": {
            "needs_background": "light"
          }
        }
      ]
    },
    {
      "cell_type": "code",
      "source": [
        "# 2.3 Building a logistic regression using only balance as input feature.\n",
        "\n",
        "X1= df.loc[:,['balance']]\n",
        "y1= df.loc[:,['default']]\n",
        "\n",
        "X_train1, X_test1, y_train1, y_test1 = train_test_split(X1,y1, test_size=0.2, random_state= 1)\n",
        "\n",
        "logreg = LogisticRegression()\n",
        "logreg.fit(X_train1,y_train1)\n",
        "logreg.score(X_test1,y_test1)"
      ],
      "metadata": {
        "colab": {
          "base_uri": "https://localhost:8080/"
        },
        "id": "bFWnKhRh95sc",
        "outputId": "8a98fa4f-bdc9-4bb7-adbb-fbb28fc07a35"
      },
      "id": "bFWnKhRh95sc",
      "execution_count": 137,
      "outputs": [
        {
          "output_type": "stream",
          "name": "stderr",
          "text": [
            "/usr/local/lib/python3.7/dist-packages/sklearn/utils/validation.py:993: DataConversionWarning: A column-vector y was passed when a 1d array was expected. Please change the shape of y to (n_samples, ), for example using ravel().\n",
            "  y = column_or_1d(y, warn=True)\n"
          ]
        },
        {
          "output_type": "execute_result",
          "data": {
            "text/plain": [
              "0.9745"
            ]
          },
          "metadata": {},
          "execution_count": 137
        }
      ]
    },
    {
      "cell_type": "code",
      "source": [
        "yhat1=logreg.predict(X_test1)\n",
        "\n",
        "cm1=confusion_matrix(y_test1,yhat1,labels=[0,1])\n",
        "print(cm1)\n",
        "\n",
        "total1=sum(sum(cm1))\n",
        "\n",
        "#from confusion matrix calculate accuracy\n",
        "\n",
        "accuracy1=(cm1[0,0]+cm1[1,1])/total1\n",
        "print ('Accuracy : ', accuracy1)\n",
        "\n",
        "sensitivity1 = cm1[0,0]/(cm1[0,0]+cm1[0,1])\n",
        "print('Sensitivity : ', sensitivity1 )\n",
        "\n",
        "specificity1 = cm1[1,1]/(cm1[1,0]+cm1[1,1])\n",
        "print('Specificity : ', specificity1)"
      ],
      "metadata": {
        "colab": {
          "base_uri": "https://localhost:8080/"
        },
        "id": "G2YVAToYIOl_",
        "outputId": "86bd1023-d05d-43bd-d020-1f1fc7497673"
      },
      "id": "G2YVAToYIOl_",
      "execution_count": 138,
      "outputs": [
        {
          "output_type": "stream",
          "name": "stdout",
          "text": [
            "[[1930   11]\n",
            " [  40   19]]\n",
            "Accuracy :  0.9745\n",
            "Sensitivity :  0.994332818134982\n",
            "Specificity :  0.3220338983050847\n"
          ]
        }
      ]
    },
    {
      "cell_type": "code",
      "source": [
        "#2.4 Building a logistic regression using balance, income, students as features.\n",
        "\n",
        "X2= df.loc[:,['balance','income','student']]\n",
        "y2= df.loc[:,['default']]\n",
        "\n",
        "X_train2, X_test2, y_train2, y_test2 = train_test_split(X2,y2, test_size=0.2, random_state= 1)\n",
        "\n",
        "logreg = LogisticRegression()\n",
        "logreg.fit(X_train2,y_train2)\n",
        "logreg.score(X_test2,y_test2)"
      ],
      "metadata": {
        "colab": {
          "base_uri": "https://localhost:8080/"
        },
        "id": "Ik0pb4plJEjD",
        "outputId": "cca7a8d5-e357-4f81-d562-c4e3d044e9aa"
      },
      "id": "Ik0pb4plJEjD",
      "execution_count": 139,
      "outputs": [
        {
          "output_type": "stream",
          "name": "stderr",
          "text": [
            "/usr/local/lib/python3.7/dist-packages/sklearn/utils/validation.py:993: DataConversionWarning: A column-vector y was passed when a 1d array was expected. Please change the shape of y to (n_samples, ), for example using ravel().\n",
            "  y = column_or_1d(y, warn=True)\n"
          ]
        },
        {
          "output_type": "execute_result",
          "data": {
            "text/plain": [
              "0.967"
            ]
          },
          "metadata": {},
          "execution_count": 139
        }
      ]
    },
    {
      "cell_type": "code",
      "source": [
        "yhat2=logreg.predict(X_test2)\n",
        "\n",
        "cm2=confusion_matrix(y_test2,yhat2,labels=[0,1])\n",
        "print(cm2)\n",
        "\n",
        "total2=sum(sum(cm2))\n",
        "#####from confusion matrix calculate accuracy\n",
        "accuracy2=(cm2[0,0]+cm2[1,1])/total2\n",
        "print ('Accuracy : ', accuracy2)\n",
        "\n",
        "sensitivity2 = cm2[0,0]/(cm2[0,0]+cm2[0,1])\n",
        "print('Sensitivity : ', sensitivity2 )\n",
        "\n",
        "specificity2 = cm2[1,1]/(cm2[1,0]+cm2[1,1])\n",
        "print('Specificity : ', specificity2)"
      ],
      "metadata": {
        "colab": {
          "base_uri": "https://localhost:8080/"
        },
        "id": "dvrJz02KJVhg",
        "outputId": "7d2678c5-d2c7-47cf-a710-03b6dd220010"
      },
      "id": "dvrJz02KJVhg",
      "execution_count": 140,
      "outputs": [
        {
          "output_type": "stream",
          "name": "stdout",
          "text": [
            "[[1924   17]\n",
            " [  49   10]]\n",
            "Accuracy :  0.967\n",
            "Sensitivity :  0.9912416280267903\n",
            "Specificity :  0.1694915254237288\n"
          ]
        }
      ]
    },
    {
      "cell_type": "code",
      "source": [
        "# 2.5 \n",
        "\n",
        "#having a high sensitivity and a low specificity means the prediction has a fairly high rate of false positives."
      ],
      "metadata": {
        "id": "pK5HAYemJdjD"
      },
      "id": "pK5HAYemJdjD",
      "execution_count": 141,
      "outputs": []
    }
  ],
  "metadata": {
    "kernelspec": {
      "display_name": "Python 3",
      "language": "python",
      "name": "python3"
    },
    "language_info": {
      "codemirror_mode": {
        "name": "ipython",
        "version": 3
      },
      "file_extension": ".py",
      "mimetype": "text/x-python",
      "name": "python",
      "nbconvert_exporter": "python",
      "pygments_lexer": "ipython3",
      "version": "3.8.8"
    },
    "colab": {
      "name": "Sanam_HW06.ipynb",
      "provenance": [],
      "collapsed_sections": []
    }
  },
  "nbformat": 4,
  "nbformat_minor": 5
}