{
  "cells": [
    {
      "cell_type": "markdown",
      "source": [
        "Most of the contents of this notebook were prepared by Dr. Edward Raff (Spring 2019)"
      ],
      "metadata": {
        "id": "q7hKxFim54Oy"
      }
    },
    {
      "cell_type": "markdown",
      "metadata": {
        "id": "IBaEtP1ZHoYB"
      },
      "source": [
        "## LOGISTIC REGRESSION"
      ]
    },
    {
      "cell_type": "code",
      "execution_count": 341,
      "metadata": {
        "id": "gNktF5vjhozS"
      },
      "outputs": [],
      "source": [
        "import pandas as pd\n",
        "from sklearn import datasets\n",
        "from matplotlib import pyplot\n",
        "import numpy as np\n",
        "from sklearn.linear_model import LogisticRegression\n",
        "from sklearn.utils import shuffle"
      ]
    },
    {
      "cell_type": "markdown",
      "metadata": {
        "id": "lt3FTGp0dJ31"
      },
      "source": [
        "Remember that the probability of belonging to the class (*y*=1) is provided by the sigmoid function:\n",
        "\n",
        "$$\n",
        "g(z)=\\frac{1}{1+e^{-z}}, \\space where \\space z=w^Tx\n",
        "$$\n",
        "\n",
        "$g(z) \\in{[0,1]}$\n",
        "\n",
        "Let's look at the sigmoid function closely:"
      ]
    },
    {
      "cell_type": "code",
      "execution_count": 342,
      "metadata": {
        "id": "4PYXsowRdJ32",
        "outputId": "faab4bbc-34c0-4ed0-d723-03c16237de8f",
        "colab": {
          "base_uri": "https://localhost:8080/",
          "height": 299
        }
      },
      "outputs": [
        {
          "output_type": "display_data",
          "data": {
            "text/plain": [
              "<Figure size 432x288 with 1 Axes>"
            ],
            "image/png": "[encoded data removed]"
          },
          "metadata": {
            "needs_background": "light"
          }
        }
      ],
      "source": [
        "def sig(x):\n",
        "    return 1/(1+np.exp(-x))\n",
        "\n",
        "x = np.array(range(-10,10))\n",
        "pyplot.plot(x, sig(x))\n",
        "#pyplot.plot([0,0],[0,1], color='red', linestyle='dashed' )\n",
        "pyplot.xlabel('$z = w^Tx$')\n",
        "pyplot.ylabel('$g(z)$')\n",
        "pyplot.title('Sigmoid is bound between 0 and 1', loc='center')\n",
        "pyplot.show()"
      ]
    },
    {
      "cell_type": "markdown",
      "source": [
        "When $z=0$, $g(z)=0.5$ which is intuitively the boundary between two classes.\n",
        "\n",
        "For our predictions, we can go with the following function:\n",
        "$$\n",
        "\\hat{y}=\n",
        "    \\begin{cases}\n",
        "      1 & \\text{if $\\theta(z)\\geq 0.5$}\\\\\n",
        "      0 & \\text{otherwise}\n",
        "    \\end{cases} \n",
        "$$"
      ],
      "metadata": {
        "id": "ju_pd9B-gfet"
      }
    },
    {
      "cell_type": "markdown",
      "source": [
        "### How does the cross-entropy loss relate to the sigmoid function?"
      ],
      "metadata": {
        "id": "AFLCYUyThstp"
      }
    },
    {
      "cell_type": "code",
      "source": [
        "def sig(x):\n",
        "    return 1/(1+np.exp(-x))\n",
        "\n",
        "def cost_1(z):\n",
        "    return -np.log(sig(z))\n",
        "\n",
        "def cost_0(z):\n",
        "    return -np.log(1-sig(z))\n",
        "\n",
        "z = np.arange(-10, 10, 0.1)\n",
        "\n",
        "phi_z = sig(z)\n",
        "c1 = cost_1(z)\n",
        "c0 = cost_0(z)\n",
        "\n",
        "pyplot.plot(phi_z, c1, phi_z, c0, '--')\n",
        "pyplot.legend(['J(w) if y=1', 'J(w) if y=0'])\n",
        "pyplot.xlabel('Sigmoid Activation Function $g(z)$')\n",
        "pyplot.ylabel('Logistic Cost $J(w)$')\n",
        "pyplot.show()"
      ],
      "metadata": {
        "colab": {
          "base_uri": "https://localhost:8080/",
          "height": 283
        },
        "id": "XSteBc6mkMs3",
        "outputId": "eabe4f7c-93ef-4aab-8eaa-fbbccf50be11"
      },
      "execution_count": 343,
      "outputs": [
        {
          "output_type": "display_data",
          "data": {
            "text/plain": [
              "<Figure size 432x288 with 1 Axes>"
            ],
            "image/png": "[encoded data removed]"
          },
          "metadata": {
            "needs_background": "light"
          }
        }
      ]
    },
    {
      "cell_type": "markdown",
      "source": [
        "Cost approaches 0 if we correctly predict the class. If we are wrong, it goes to infinity."
      ],
      "metadata": {
        "id": "DyA-vaoLkupm"
      }
    },
    {
      "cell_type": "markdown",
      "source": [
        "## First example: Iris dataset"
      ],
      "metadata": {
        "id": "FLaEqT1pfwga"
      }
    },
    {
      "cell_type": "code",
      "execution_count": 344,
      "metadata": {
        "id": "CIBY2fOPhzCc"
      },
      "outputs": [],
      "source": [
        "data = datasets.load_iris()"
      ]
    },
    {
      "cell_type": "code",
      "execution_count": 345,
      "metadata": {
        "id": "N3U9kgaEiH8H",
        "scrolled": false,
        "colab": {
          "base_uri": "https://localhost:8080/"
        },
        "outputId": "0dd84230-5fad-4afb-9795-664d141ae4e1"
      },
      "outputs": [
        {
          "output_type": "stream",
          "name": "stdout",
          "text": [
            ".. _iris_dataset:\n",
            "\n",
            "Iris plants dataset\n",
            "--------------------\n",
            "\n",
            "**Data Set Characteristics:**\n",
            "\n",
            "    :Number of Instances: 150 (50 in each of three classes)\n",
            "    :Number of Attributes: 4 numeric, predictive attributes and the class\n",
            "    :Attribute Information:\n",
            "        - sepal length in cm\n",
            "        - sepal width in cm\n",
            "        - petal length in cm\n",
            "        - petal width in cm\n",
            "        - class:\n",
            "                - Iris-Setosa\n",
            "                - Iris-Versicolour\n",
            "                - Iris-Virginica\n",
            "...\n"
          ]
        }
      ],
      "source": [
        "print(data['DESCR'][:482] + \"\\n...\")"
      ]
    },
    {
      "cell_type": "code",
      "execution_count": 346,
      "metadata": {
        "id": "i6ISgoxxnA7v",
        "colab": {
          "base_uri": "https://localhost:8080/"
        },
        "outputId": "03807c6b-08a5-42cd-dcf6-e6d2379e6c89"
      },
      "outputs": [
        {
          "output_type": "stream",
          "name": "stdout",
          "text": [
            "(150, 4)\n"
          ]
        }
      ],
      "source": [
        "print(data.data.shape)\n",
        "#print(data.data)"
      ]
    },
    {
      "cell_type": "code",
      "execution_count": 347,
      "metadata": {
        "id": "xYIH9jLziNkp"
      },
      "outputs": [],
      "source": [
        "iris_df = pd.DataFrame(data=np.c_[data['data'], data['target']],columns= list(data['feature_names']) + ['target'])"
      ]
    },
    {
      "cell_type": "code",
      "execution_count": 348,
      "metadata": {
        "colab": {
          "base_uri": "https://localhost:8080/",
          "height": 204
        },
        "id": "s4__x4mrjEFi",
        "outputId": "9ee6b9f8-cc90-4c5b-a326-9a792c4196a8"
      },
      "outputs": [
        {
          "output_type": "execute_result",
          "data": {
            "text/plain": [
              "   sepal length (cm)  sepal width (cm)  petal length (cm)  petal width (cm)  \\\n",
              "0                5.1               3.5                1.4               0.2   \n",
              "1                4.9               3.0                1.4               0.2   \n",
              "2                4.7               3.2                1.3               0.2   \n",
              "3                4.6               3.1                1.5               0.2   \n",
              "4                5.0               3.6                1.4               0.2   \n",
              "\n",
              "   target  \n",
              "0     0.0  \n",
              "1     0.0  \n",
              "2     0.0  \n",
              "3     0.0  \n",
              "4     0.0  "
            ],
            "text/html": [
              "\n",
              "  <div id=\"df-4957f99a-0d1a-4bcd-a724-475692cf7978\">\n",
              "    <div class=\"colab-df-container\">\n",
              "      <div>\n",
              "<style scoped>\n",
              "    .dataframe tbody tr th:only-of-type {\n",
              "        vertical-align: middle;\n",
              "    }\n",
              "\n",
              "    .dataframe tbody tr th {\n",
              "        vertical-align: top;\n",
              "    }\n",
              "\n",
              "    .dataframe thead th {\n",
              "        text-align: right;\n",
              "    }\n",
              "</style>\n",
              "<table border=\"1\" class=\"dataframe\">\n",
              "  <thead>\n",
              "    <tr style=\"text-align: right;\">\n",
              "      <th></th>\n",
              "      <th>sepal length (cm)</th>\n",
              "      <th>sepal width (cm)</th>\n",
              "      <th>petal length (cm)</th>\n",
              "      <th>petal width (cm)</th>\n",
              "      <th>target</th>\n",
              "    </tr>\n",
              "  </thead>\n",
              "  <tbody>\n",
              "    <tr>\n",
              "      <th>0</th>\n",
              "      <td>5.1</td>\n",
              "      <td>3.5</td>\n",
              "      <td>1.4</td>\n",
              "      <td>0.2</td>\n",
              "      <td>0.0</td>\n",
              "    </tr>\n",
              "    <tr>\n",
              "      <th>1</th>\n",
              "      <td>4.9</td>\n",
              "      <td>3.0</td>\n",
              "      <td>1.4</td>\n",
              "      <td>0.2</td>\n",
              "      <td>0.0</td>\n",
              "    </tr>\n",
              "    <tr>\n",
              "      <th>2</th>\n",
              "      <td>4.7</td>\n",
              "      <td>3.2</td>\n",
              "      <td>1.3</td>\n",
              "      <td>0.2</td>\n",
              "      <td>0.0</td>\n",
              "    </tr>\n",
              "    <tr>\n",
              "      <th>3</th>\n",
              "      <td>4.6</td>\n",
              "      <td>3.1</td>\n",
              "      <td>1.5</td>\n",
              "      <td>0.2</td>\n",
              "      <td>0.0</td>\n",
              "    </tr>\n",
              "    <tr>\n",
              "      <th>4</th>\n",
              "      <td>5.0</td>\n",
              "      <td>3.6</td>\n",
              "      <td>1.4</td>\n",
              "      <td>0.2</td>\n",
              "      <td>0.0</td>\n",
              "    </tr>\n",
              "  </tbody>\n",
              "</table>\n",
              "</div>\n",
              "      <button class=\"colab-df-convert\" onclick=\"convertToInteractive('df-4957f99a-0d1a-4bcd-a724-475692cf7978')\"\n",
              "              title=\"Convert this dataframe to an interactive table.\"\n",
              "              style=\"display:none;\">\n",
              "        \n",
              "  <svg xmlns=\"http://www.w3.org/2000/svg\" height=\"24px\"viewBox=\"0 0 24 24\"\n",
              "       width=\"24px\">\n",
              "    <path d=\"M0 0h24v24H0V0z\" fill=\"none\"/>\n",
              "    <path d=\"M18.56 5.44l.94 2.06.94-2.06 2.06-.94-2.06-.94-.94-2.06-.94 2.06-2.06.94zm-11 1L8.5 8.5l.94-2.06 2.06-.94-2.06-.94L8.5 2.5l-.94 2.06-2.06.94zm10 10l.94 2.06.94-2.06 2.06-.94-2.06-.94-.94-2.06-.94 2.06-2.06.94z\"/><path d=\"M17.41 7.96l-1.37-1.37c-.4-.4-.92-.59-1.43-.59-.52 0-1.04.2-1.43.59L10.3 9.45l-7.72 7.72c-.78.78-.78 2.05 0 2.83L4 21.41c.39.39.9.59 1.41.59.51 0 1.02-.2 1.41-.59l7.78-7.78 2.81-2.81c.8-.78.8-2.07 0-2.86zM5.41 20L4 18.59l7.72-7.72 1.47 1.35L5.41 20z\"/>\n",
              "  </svg>\n",
              "      </button>\n",
              "      \n",
              "  <style>\n",
              "    .colab-df-container {\n",
              "      display:flex;\n",
              "      flex-wrap:wrap;\n",
              "      gap: 12px;\n",
              "    }\n",
              "\n",
              "    .colab-df-convert {\n",
              "      background-color: #E8F0FE;\n",
              "      border: none;\n",
              "      border-radius: 50%;\n",
              "      cursor: pointer;\n",
              "      display: none;\n",
              "      fill: #1967D2;\n",
              "      height: 32px;\n",
              "      padding: 0 0 0 0;\n",
              "      width: 32px;\n",
              "    }\n",
              "\n",
              "    .colab-df-convert:hover {\n",
              "      background-color: #E2EBFA;\n",
              "      box-shadow: 0px 1px 2px rgba(60, 64, 67, 0.3), 0px 1px 3px 1px rgba(60, 64, 67, 0.15);\n",
              "      fill: #174EA6;\n",
              "    }\n",
              "\n",
              "    [theme=dark] .colab-df-convert {\n",
              "      background-color: #3B4455;\n",
              "      fill: #D2E3FC;\n",
              "    }\n",
              "\n",
              "    [theme=dark] .colab-df-convert:hover {\n",
              "      background-color: #434B5C;\n",
              "      box-shadow: 0px 1px 3px 1px rgba(0, 0, 0, 0.15);\n",
              "      filter: drop-shadow(0px 1px 2px rgba(0, 0, 0, 0.3));\n",
              "      fill: #FFFFFF;\n",
              "    }\n",
              "  </style>\n",
              "\n",
              "      <script>\n",
              "        const buttonEl =\n",
              "          document.querySelector('#df-4957f99a-0d1a-4bcd-a724-475692cf7978 button.colab-df-convert');\n",
              "        buttonEl.style.display =\n",
              "          google.colab.kernel.accessAllowed ? 'block' : 'none';\n",
              "\n",
              "        async function convertToInteractive(key) {\n",
              "          const element = document.querySelector('#df-4957f99a-0d1a-4bcd-a724-475692cf7978');\n",
              "          const dataTable =\n",
              "            await google.colab.kernel.invokeFunction('convertToInteractive',\n",
              "                                                     [key], {});\n",
              "          if (!dataTable) return;\n",
              "\n",
              "          const docLinkHtml = 'Like what you see? Visit the ' +\n",
              "            '<a target=\"_blank\" href=https://colab.research.google.com/notebooks/data_table.ipynb>data table notebook</a>'\n",
              "            + ' to learn more about interactive tables.';\n",
              "          element.innerHTML = '';\n",
              "          dataTable['output_type'] = 'display_data';\n",
              "          await google.colab.output.renderOutput(dataTable, element);\n",
              "          const docLink = document.createElement('div');\n",
              "          docLink.innerHTML = docLinkHtml;\n",
              "          element.appendChild(docLink);\n",
              "        }\n",
              "      </script>\n",
              "    </div>\n",
              "  </div>\n",
              "  "
            ]
          },
          "metadata": {},
          "execution_count": 348
        }
      ],
      "source": [
        "iris_df.head()"
      ]
    },
    {
      "cell_type": "code",
      "execution_count": 349,
      "metadata": {
        "id": "QngUJdxJYByr"
      },
      "outputs": [],
      "source": [
        "iris_df=shuffle(pd.DataFrame(data=np.c_[data['data'], data['target']],columns= list(data['feature_names']) + ['target']),random_state = 1)"
      ]
    },
    {
      "cell_type": "code",
      "execution_count": 350,
      "metadata": {
        "colab": {
          "base_uri": "https://localhost:8080/",
          "height": 204
        },
        "id": "eIVlh7VmYc5m",
        "outputId": "5d1226aa-0ec0-474b-9eff-e3fb4b7df9b5"
      },
      "outputs": [
        {
          "output_type": "execute_result",
          "data": {
            "text/plain": [
              "     sepal length (cm)  sepal width (cm)  petal length (cm)  petal width (cm)  \\\n",
              "14                 5.8               4.0                1.2               0.2   \n",
              "98                 5.1               2.5                3.0               1.1   \n",
              "75                 6.6               3.0                4.4               1.4   \n",
              "16                 5.4               3.9                1.3               0.4   \n",
              "131                7.9               3.8                6.4               2.0   \n",
              "\n",
              "     target  \n",
              "14      0.0  \n",
              "98      1.0  \n",
              "75      1.0  \n",
              "16      0.0  \n",
              "131     2.0  "
            ],
            "text/html": [
              "\n",
              "  <div id=\"df-cdb4913e-df2a-4158-8b0d-f2ef0b28f74c\">\n",
              "    <div class=\"colab-df-container\">\n",
              "      <div>\n",
              "<style scoped>\n",
              "    .dataframe tbody tr th:only-of-type {\n",
              "        vertical-align: middle;\n",
              "    }\n",
              "\n",
              "    .dataframe tbody tr th {\n",
              "        vertical-align: top;\n",
              "    }\n",
              "\n",
              "    .dataframe thead th {\n",
              "        text-align: right;\n",
              "    }\n",
              "</style>\n",
              "<table border=\"1\" class=\"dataframe\">\n",
              "  <thead>\n",
              "    <tr style=\"text-align: right;\">\n",
              "      <th></th>\n",
              "      <th>sepal length (cm)</th>\n",
              "      <th>sepal width (cm)</th>\n",
              "      <th>petal length (cm)</th>\n",
              "      <th>petal width (cm)</th>\n",
              "      <th>target</th>\n",
              "    </tr>\n",
              "  </thead>\n",
              "  <tbody>\n",
              "    <tr>\n",
              "      <th>14</th>\n",
              "      <td>5.8</td>\n",
              "      <td>4.0</td>\n",
              "      <td>1.2</td>\n",
              "      <td>0.2</td>\n",
              "      <td>0.0</td>\n",
              "    </tr>\n",
              "    <tr>\n",
              "      <th>98</th>\n",
              "      <td>5.1</td>\n",
              "      <td>2.5</td>\n",
              "      <td>3.0</td>\n",
              "      <td>1.1</td>\n",
              "      <td>1.0</td>\n",
              "    </tr>\n",
              "    <tr>\n",
              "      <th>75</th>\n",
              "      <td>6.6</td>\n",
              "      <td>3.0</td>\n",
              "      <td>4.4</td>\n",
              "      <td>1.4</td>\n",
              "      <td>1.0</td>\n",
              "    </tr>\n",
              "    <tr>\n",
              "      <th>16</th>\n",
              "      <td>5.4</td>\n",
              "      <td>3.9</td>\n",
              "      <td>1.3</td>\n",
              "      <td>0.4</td>\n",
              "      <td>0.0</td>\n",
              "    </tr>\n",
              "    <tr>\n",
              "      <th>131</th>\n",
              "      <td>7.9</td>\n",
              "      <td>3.8</td>\n",
              "      <td>6.4</td>\n",
              "      <td>2.0</td>\n",
              "      <td>2.0</td>\n",
              "    </tr>\n",
              "  </tbody>\n",
              "</table>\n",
              "</div>\n",
              "      <button class=\"colab-df-convert\" onclick=\"convertToInteractive('df-cdb4913e-df2a-4158-8b0d-f2ef0b28f74c')\"\n",
              "              title=\"Convert this dataframe to an interactive table.\"\n",
              "              style=\"display:none;\">\n",
              "        \n",
              "  <svg xmlns=\"http://www.w3.org/2000/svg\" height=\"24px\"viewBox=\"0 0 24 24\"\n",
              "       width=\"24px\">\n",
              "    <path d=\"M0 0h24v24H0V0z\" fill=\"none\"/>\n",
              "    <path d=\"M18.56 5.44l.94 2.06.94-2.06 2.06-.94-2.06-.94-.94-2.06-.94 2.06-2.06.94zm-11 1L8.5 8.5l.94-2.06 2.06-.94-2.06-.94L8.5 2.5l-.94 2.06-2.06.94zm10 10l.94 2.06.94-2.06 2.06-.94-2.06-.94-.94-2.06-.94 2.06-2.06.94z\"/><path d=\"M17.41 7.96l-1.37-1.37c-.4-.4-.92-.59-1.43-.59-.52 0-1.04.2-1.43.59L10.3 9.45l-7.72 7.72c-.78.78-.78 2.05 0 2.83L4 21.41c.39.39.9.59 1.41.59.51 0 1.02-.2 1.41-.59l7.78-7.78 2.81-2.81c.8-.78.8-2.07 0-2.86zM5.41 20L4 18.59l7.72-7.72 1.47 1.35L5.41 20z\"/>\n",
              "  </svg>\n",
              "      </button>\n",
              "      \n",
              "  <style>\n",
              "    .colab-df-container {\n",
              "      display:flex;\n",
              "      flex-wrap:wrap;\n",
              "      gap: 12px;\n",
              "    }\n",
              "\n",
              "    .colab-df-convert {\n",
              "      background-color: #E8F0FE;\n",
              "      border: none;\n",
              "      border-radius: 50%;\n",
              "      cursor: pointer;\n",
              "      display: none;\n",
              "      fill: #1967D2;\n",
              "      height: 32px;\n",
              "      padding: 0 0 0 0;\n",
              "      width: 32px;\n",
              "    }\n",
              "\n",
              "    .colab-df-convert:hover {\n",
              "      background-color: #E2EBFA;\n",
              "      box-shadow: 0px 1px 2px rgba(60, 64, 67, 0.3), 0px 1px 3px 1px rgba(60, 64, 67, 0.15);\n",
              "      fill: #174EA6;\n",
              "    }\n",
              "\n",
              "    [theme=dark] .colab-df-convert {\n",
              "      background-color: #3B4455;\n",
              "      fill: #D2E3FC;\n",
              "    }\n",
              "\n",
              "    [theme=dark] .colab-df-convert:hover {\n",
              "      background-color: #434B5C;\n",
              "      box-shadow: 0px 1px 3px 1px rgba(0, 0, 0, 0.15);\n",
              "      filter: drop-shadow(0px 1px 2px rgba(0, 0, 0, 0.3));\n",
              "      fill: #FFFFFF;\n",
              "    }\n",
              "  </style>\n",
              "\n",
              "      <script>\n",
              "        const buttonEl =\n",
              "          document.querySelector('#df-cdb4913e-df2a-4158-8b0d-f2ef0b28f74c button.colab-df-convert');\n",
              "        buttonEl.style.display =\n",
              "          google.colab.kernel.accessAllowed ? 'block' : 'none';\n",
              "\n",
              "        async function convertToInteractive(key) {\n",
              "          const element = document.querySelector('#df-cdb4913e-df2a-4158-8b0d-f2ef0b28f74c');\n",
              "          const dataTable =\n",
              "            await google.colab.kernel.invokeFunction('convertToInteractive',\n",
              "                                                     [key], {});\n",
              "          if (!dataTable) return;\n",
              "\n",
              "          const docLinkHtml = 'Like what you see? Visit the ' +\n",
              "            '<a target=\"_blank\" href=https://colab.research.google.com/notebooks/data_table.ipynb>data table notebook</a>'\n",
              "            + ' to learn more about interactive tables.';\n",
              "          element.innerHTML = '';\n",
              "          dataTable['output_type'] = 'display_data';\n",
              "          await google.colab.output.renderOutput(dataTable, element);\n",
              "          const docLink = document.createElement('div');\n",
              "          docLink.innerHTML = docLinkHtml;\n",
              "          element.appendChild(docLink);\n",
              "        }\n",
              "      </script>\n",
              "    </div>\n",
              "  </div>\n",
              "  "
            ]
          },
          "metadata": {},
          "execution_count": 350
        }
      ],
      "source": [
        "iris_df.head()"
      ]
    },
    {
      "cell_type": "code",
      "execution_count": 351,
      "metadata": {
        "id": "KKioNFycgDb8",
        "colab": {
          "base_uri": "https://localhost:8080/",
          "height": 297
        },
        "outputId": "7d674ee7-0044-4743-d7df-4517cfbbc2ef"
      },
      "outputs": [
        {
          "output_type": "execute_result",
          "data": {
            "text/plain": [
              "       sepal length (cm)  sepal width (cm)  petal length (cm)  \\\n",
              "count           50.00000         50.000000          50.000000   \n",
              "mean             5.00600          3.428000           1.462000   \n",
              "std              0.35249          0.379064           0.173664   \n",
              "min              4.30000          2.300000           1.000000   \n",
              "25%              4.80000          3.200000           1.400000   \n",
              "50%              5.00000          3.400000           1.500000   \n",
              "75%              5.20000          3.675000           1.575000   \n",
              "max              5.80000          4.400000           1.900000   \n",
              "\n",
              "       petal width (cm)  target  \n",
              "count         50.000000    50.0  \n",
              "mean           0.246000     0.0  \n",
              "std            0.105386     0.0  \n",
              "min            0.100000     0.0  \n",
              "25%            0.200000     0.0  \n",
              "50%            0.200000     0.0  \n",
              "75%            0.300000     0.0  \n",
              "max            0.600000     0.0  "
            ],
            "text/html": [
              "\n",
              "  <div id=\"df-14a3d67f-0427-44b0-8388-621efba05dfe\">\n",
              "    <div class=\"colab-df-container\">\n",
              "      <div>\n",
              "<style scoped>\n",
              "    .dataframe tbody tr th:only-of-type {\n",
              "        vertical-align: middle;\n",
              "    }\n",
              "\n",
              "    .dataframe tbody tr th {\n",
              "        vertical-align: top;\n",
              "    }\n",
              "\n",
              "    .dataframe thead th {\n",
              "        text-align: right;\n",
              "    }\n",
              "</style>\n",
              "<table border=\"1\" class=\"dataframe\">\n",
              "  <thead>\n",
              "    <tr style=\"text-align: right;\">\n",
              "      <th></th>\n",
              "      <th>sepal length (cm)</th>\n",
              "      <th>sepal width (cm)</th>\n",
              "      <th>petal length (cm)</th>\n",
              "      <th>petal width (cm)</th>\n",
              "      <th>target</th>\n",
              "    </tr>\n",
              "  </thead>\n",
              "  <tbody>\n",
              "    <tr>\n",
              "      <th>count</th>\n",
              "      <td>50.00000</td>\n",
              "      <td>50.000000</td>\n",
              "      <td>50.000000</td>\n",
              "      <td>50.000000</td>\n",
              "      <td>50.0</td>\n",
              "    </tr>\n",
              "    <tr>\n",
              "      <th>mean</th>\n",
              "      <td>5.00600</td>\n",
              "      <td>3.428000</td>\n",
              "      <td>1.462000</td>\n",
              "      <td>0.246000</td>\n",
              "      <td>0.0</td>\n",
              "    </tr>\n",
              "    <tr>\n",
              "      <th>std</th>\n",
              "      <td>0.35249</td>\n",
              "      <td>0.379064</td>\n",
              "      <td>0.173664</td>\n",
              "      <td>0.105386</td>\n",
              "      <td>0.0</td>\n",
              "    </tr>\n",
              "    <tr>\n",
              "      <th>min</th>\n",
              "      <td>4.30000</td>\n",
              "      <td>2.300000</td>\n",
              "      <td>1.000000</td>\n",
              "      <td>0.100000</td>\n",
              "      <td>0.0</td>\n",
              "    </tr>\n",
              "    <tr>\n",
              "      <th>25%</th>\n",
              "      <td>4.80000</td>\n",
              "      <td>3.200000</td>\n",
              "      <td>1.400000</td>\n",
              "      <td>0.200000</td>\n",
              "      <td>0.0</td>\n",
              "    </tr>\n",
              "    <tr>\n",
              "      <th>50%</th>\n",
              "      <td>5.00000</td>\n",
              "      <td>3.400000</td>\n",
              "      <td>1.500000</td>\n",
              "      <td>0.200000</td>\n",
              "      <td>0.0</td>\n",
              "    </tr>\n",
              "    <tr>\n",
              "      <th>75%</th>\n",
              "      <td>5.20000</td>\n",
              "      <td>3.675000</td>\n",
              "      <td>1.575000</td>\n",
              "      <td>0.300000</td>\n",
              "      <td>0.0</td>\n",
              "    </tr>\n",
              "    <tr>\n",
              "      <th>max</th>\n",
              "      <td>5.80000</td>\n",
              "      <td>4.400000</td>\n",
              "      <td>1.900000</td>\n",
              "      <td>0.600000</td>\n",
              "      <td>0.0</td>\n",
              "    </tr>\n",
              "  </tbody>\n",
              "</table>\n",
              "</div>\n",
              "      <button class=\"colab-df-convert\" onclick=\"convertToInteractive('df-14a3d67f-0427-44b0-8388-621efba05dfe')\"\n",
              "              title=\"Convert this dataframe to an interactive table.\"\n",
              "              style=\"display:none;\">\n",
              "        \n",
              "  <svg xmlns=\"http://www.w3.org/2000/svg\" height=\"24px\"viewBox=\"0 0 24 24\"\n",
              "       width=\"24px\">\n",
              "    <path d=\"M0 0h24v24H0V0z\" fill=\"none\"/>\n",
              "    <path d=\"M18.56 5.44l.94 2.06.94-2.06 2.06-.94-2.06-.94-.94-2.06-.94 2.06-2.06.94zm-11 1L8.5 8.5l.94-2.06 2.06-.94-2.06-.94L8.5 2.5l-.94 2.06-2.06.94zm10 10l.94 2.06.94-2.06 2.06-.94-2.06-.94-.94-2.06-.94 2.06-2.06.94z\"/><path d=\"M17.41 7.96l-1.37-1.37c-.4-.4-.92-.59-1.43-.59-.52 0-1.04.2-1.43.59L10.3 9.45l-7.72 7.72c-.78.78-.78 2.05 0 2.83L4 21.41c.39.39.9.59 1.41.59.51 0 1.02-.2 1.41-.59l7.78-7.78 2.81-2.81c.8-.78.8-2.07 0-2.86zM5.41 20L4 18.59l7.72-7.72 1.47 1.35L5.41 20z\"/>\n",
              "  </svg>\n",
              "      </button>\n",
              "      \n",
              "  <style>\n",
              "    .colab-df-container {\n",
              "      display:flex;\n",
              "      flex-wrap:wrap;\n",
              "      gap: 12px;\n",
              "    }\n",
              "\n",
              "    .colab-df-convert {\n",
              "      background-color: #E8F0FE;\n",
              "      border: none;\n",
              "      border-radius: 50%;\n",
              "      cursor: pointer;\n",
              "      display: none;\n",
              "      fill: #1967D2;\n",
              "      height: 32px;\n",
              "      padding: 0 0 0 0;\n",
              "      width: 32px;\n",
              "    }\n",
              "\n",
              "    .colab-df-convert:hover {\n",
              "      background-color: #E2EBFA;\n",
              "      box-shadow: 0px 1px 2px rgba(60, 64, 67, 0.3), 0px 1px 3px 1px rgba(60, 64, 67, 0.15);\n",
              "      fill: #174EA6;\n",
              "    }\n",
              "\n",
              "    [theme=dark] .colab-df-convert {\n",
              "      background-color: #3B4455;\n",
              "      fill: #D2E3FC;\n",
              "    }\n",
              "\n",
              "    [theme=dark] .colab-df-convert:hover {\n",
              "      background-color: #434B5C;\n",
              "      box-shadow: 0px 1px 3px 1px rgba(0, 0, 0, 0.15);\n",
              "      filter: drop-shadow(0px 1px 2px rgba(0, 0, 0, 0.3));\n",
              "      fill: #FFFFFF;\n",
              "    }\n",
              "  </style>\n",
              "\n",
              "      <script>\n",
              "        const buttonEl =\n",
              "          document.querySelector('#df-14a3d67f-0427-44b0-8388-621efba05dfe button.colab-df-convert');\n",
              "        buttonEl.style.display =\n",
              "          google.colab.kernel.accessAllowed ? 'block' : 'none';\n",
              "\n",
              "        async function convertToInteractive(key) {\n",
              "          const element = document.querySelector('#df-14a3d67f-0427-44b0-8388-621efba05dfe');\n",
              "          const dataTable =\n",
              "            await google.colab.kernel.invokeFunction('convertToInteractive',\n",
              "                                                     [key], {});\n",
              "          if (!dataTable) return;\n",
              "\n",
              "          const docLinkHtml = 'Like what you see? Visit the ' +\n",
              "            '<a target=\"_blank\" href=https://colab.research.google.com/notebooks/data_table.ipynb>data table notebook</a>'\n",
              "            + ' to learn more about interactive tables.';\n",
              "          element.innerHTML = '';\n",
              "          dataTable['output_type'] = 'display_data';\n",
              "          await google.colab.output.renderOutput(dataTable, element);\n",
              "          const docLink = document.createElement('div');\n",
              "          docLink.innerHTML = docLinkHtml;\n",
              "          element.appendChild(docLink);\n",
              "        }\n",
              "      </script>\n",
              "    </div>\n",
              "  </div>\n",
              "  "
            ]
          },
          "metadata": {},
          "execution_count": 351
        }
      ],
      "source": [
        "iris_df[iris_df['target']==0].describe()"
      ]
    },
    {
      "cell_type": "code",
      "execution_count": 352,
      "metadata": {
        "colab": {
          "base_uri": "https://localhost:8080/",
          "height": 297
        },
        "id": "ZTX1Ppv-WuK8",
        "outputId": "c75424fa-5a8e-4733-ada9-f96eb5594939"
      },
      "outputs": [
        {
          "output_type": "execute_result",
          "data": {
            "text/plain": [
              "       sepal length (cm)  sepal width (cm)  petal length (cm)  \\\n",
              "count          50.000000         50.000000          50.000000   \n",
              "mean            5.936000          2.770000           4.260000   \n",
              "std             0.516171          0.313798           0.469911   \n",
              "min             4.900000          2.000000           3.000000   \n",
              "25%             5.600000          2.525000           4.000000   \n",
              "50%             5.900000          2.800000           4.350000   \n",
              "75%             6.300000          3.000000           4.600000   \n",
              "max             7.000000          3.400000           5.100000   \n",
              "\n",
              "       petal width (cm)  target  \n",
              "count         50.000000    50.0  \n",
              "mean           1.326000     1.0  \n",
              "std            0.197753     0.0  \n",
              "min            1.000000     1.0  \n",
              "25%            1.200000     1.0  \n",
              "50%            1.300000     1.0  \n",
              "75%            1.500000     1.0  \n",
              "max            1.800000     1.0  "
            ],
            "text/html": [
              "\n",
              "  <div id=\"df-09c36a29-9688-4548-bf0e-f68a159ba32b\">\n",
              "    <div class=\"colab-df-container\">\n",
              "      <div>\n",
              "<style scoped>\n",
              "    .dataframe tbody tr th:only-of-type {\n",
              "        vertical-align: middle;\n",
              "    }\n",
              "\n",
              "    .dataframe tbody tr th {\n",
              "        vertical-align: top;\n",
              "    }\n",
              "\n",
              "    .dataframe thead th {\n",
              "        text-align: right;\n",
              "    }\n",
              "</style>\n",
              "<table border=\"1\" class=\"dataframe\">\n",
              "  <thead>\n",
              "    <tr style=\"text-align: right;\">\n",
              "      <th></th>\n",
              "      <th>sepal length (cm)</th>\n",
              "      <th>sepal width (cm)</th>\n",
              "      <th>petal length (cm)</th>\n",
              "      <th>petal width (cm)</th>\n",
              "      <th>target</th>\n",
              "    </tr>\n",
              "  </thead>\n",
              "  <tbody>\n",
              "    <tr>\n",
              "      <th>count</th>\n",
              "      <td>50.000000</td>\n",
              "      <td>50.000000</td>\n",
              "      <td>50.000000</td>\n",
              "      <td>50.000000</td>\n",
              "      <td>50.0</td>\n",
              "    </tr>\n",
              "    <tr>\n",
              "      <th>mean</th>\n",
              "      <td>5.936000</td>\n",
              "      <td>2.770000</td>\n",
              "      <td>4.260000</td>\n",
              "      <td>1.326000</td>\n",
              "      <td>1.0</td>\n",
              "    </tr>\n",
              "    <tr>\n",
              "      <th>std</th>\n",
              "      <td>0.516171</td>\n",
              "      <td>0.313798</td>\n",
              "      <td>0.469911</td>\n",
              "      <td>0.197753</td>\n",
              "      <td>0.0</td>\n",
              "    </tr>\n",
              "    <tr>\n",
              "      <th>min</th>\n",
              "      <td>4.900000</td>\n",
              "      <td>2.000000</td>\n",
              "      <td>3.000000</td>\n",
              "      <td>1.000000</td>\n",
              "      <td>1.0</td>\n",
              "    </tr>\n",
              "    <tr>\n",
              "      <th>25%</th>\n",
              "      <td>5.600000</td>\n",
              "      <td>2.525000</td>\n",
              "      <td>4.000000</td>\n",
              "      <td>1.200000</td>\n",
              "      <td>1.0</td>\n",
              "    </tr>\n",
              "    <tr>\n",
              "      <th>50%</th>\n",
              "      <td>5.900000</td>\n",
              "      <td>2.800000</td>\n",
              "      <td>4.350000</td>\n",
              "      <td>1.300000</td>\n",
              "      <td>1.0</td>\n",
              "    </tr>\n",
              "    <tr>\n",
              "      <th>75%</th>\n",
              "      <td>6.300000</td>\n",
              "      <td>3.000000</td>\n",
              "      <td>4.600000</td>\n",
              "      <td>1.500000</td>\n",
              "      <td>1.0</td>\n",
              "    </tr>\n",
              "    <tr>\n",
              "      <th>max</th>\n",
              "      <td>7.000000</td>\n",
              "      <td>3.400000</td>\n",
              "      <td>5.100000</td>\n",
              "      <td>1.800000</td>\n",
              "      <td>1.0</td>\n",
              "    </tr>\n",
              "  </tbody>\n",
              "</table>\n",
              "</div>\n",
              "      <button class=\"colab-df-convert\" onclick=\"convertToInteractive('df-09c36a29-9688-4548-bf0e-f68a159ba32b')\"\n",
              "              title=\"Convert this dataframe to an interactive table.\"\n",
              "              style=\"display:none;\">\n",
              "        \n",
              "  <svg xmlns=\"http://www.w3.org/2000/svg\" height=\"24px\"viewBox=\"0 0 24 24\"\n",
              "       width=\"24px\">\n",
              "    <path d=\"M0 0h24v24H0V0z\" fill=\"none\"/>\n",
              "    <path d=\"M18.56 5.44l.94 2.06.94-2.06 2.06-.94-2.06-.94-.94-2.06-.94 2.06-2.06.94zm-11 1L8.5 8.5l.94-2.06 2.06-.94-2.06-.94L8.5 2.5l-.94 2.06-2.06.94zm10 10l.94 2.06.94-2.06 2.06-.94-2.06-.94-.94-2.06-.94 2.06-2.06.94z\"/><path d=\"M17.41 7.96l-1.37-1.37c-.4-.4-.92-.59-1.43-.59-.52 0-1.04.2-1.43.59L10.3 9.45l-7.72 7.72c-.78.78-.78 2.05 0 2.83L4 21.41c.39.39.9.59 1.41.59.51 0 1.02-.2 1.41-.59l7.78-7.78 2.81-2.81c.8-.78.8-2.07 0-2.86zM5.41 20L4 18.59l7.72-7.72 1.47 1.35L5.41 20z\"/>\n",
              "  </svg>\n",
              "      </button>\n",
              "      \n",
              "  <style>\n",
              "    .colab-df-container {\n",
              "      display:flex;\n",
              "      flex-wrap:wrap;\n",
              "      gap: 12px;\n",
              "    }\n",
              "\n",
              "    .colab-df-convert {\n",
              "      background-color: #E8F0FE;\n",
              "      border: none;\n",
              "      border-radius: 50%;\n",
              "      cursor: pointer;\n",
              "      display: none;\n",
              "      fill: #1967D2;\n",
              "      height: 32px;\n",
              "      padding: 0 0 0 0;\n",
              "      width: 32px;\n",
              "    }\n",
              "\n",
              "    .colab-df-convert:hover {\n",
              "      background-color: #E2EBFA;\n",
              "      box-shadow: 0px 1px 2px rgba(60, 64, 67, 0.3), 0px 1px 3px 1px rgba(60, 64, 67, 0.15);\n",
              "      fill: #174EA6;\n",
              "    }\n",
              "\n",
              "    [theme=dark] .colab-df-convert {\n",
              "      background-color: #3B4455;\n",
              "      fill: #D2E3FC;\n",
              "    }\n",
              "\n",
              "    [theme=dark] .colab-df-convert:hover {\n",
              "      background-color: #434B5C;\n",
              "      box-shadow: 0px 1px 3px 1px rgba(0, 0, 0, 0.15);\n",
              "      filter: drop-shadow(0px 1px 2px rgba(0, 0, 0, 0.3));\n",
              "      fill: #FFFFFF;\n",
              "    }\n",
              "  </style>\n",
              "\n",
              "      <script>\n",
              "        const buttonEl =\n",
              "          document.querySelector('#df-09c36a29-9688-4548-bf0e-f68a159ba32b button.colab-df-convert');\n",
              "        buttonEl.style.display =\n",
              "          google.colab.kernel.accessAllowed ? 'block' : 'none';\n",
              "\n",
              "        async function convertToInteractive(key) {\n",
              "          const element = document.querySelector('#df-09c36a29-9688-4548-bf0e-f68a159ba32b');\n",
              "          const dataTable =\n",
              "            await google.colab.kernel.invokeFunction('convertToInteractive',\n",
              "                                                     [key], {});\n",
              "          if (!dataTable) return;\n",
              "\n",
              "          const docLinkHtml = 'Like what you see? Visit the ' +\n",
              "            '<a target=\"_blank\" href=https://colab.research.google.com/notebooks/data_table.ipynb>data table notebook</a>'\n",
              "            + ' to learn more about interactive tables.';\n",
              "          element.innerHTML = '';\n",
              "          dataTable['output_type'] = 'display_data';\n",
              "          await google.colab.output.renderOutput(dataTable, element);\n",
              "          const docLink = document.createElement('div');\n",
              "          docLink.innerHTML = docLinkHtml;\n",
              "          element.appendChild(docLink);\n",
              "        }\n",
              "      </script>\n",
              "    </div>\n",
              "  </div>\n",
              "  "
            ]
          },
          "metadata": {},
          "execution_count": 352
        }
      ],
      "source": [
        "iris_df[iris_df['target']==1].describe()"
      ]
    },
    {
      "cell_type": "code",
      "execution_count": 353,
      "metadata": {
        "colab": {
          "base_uri": "https://localhost:8080/",
          "height": 297
        },
        "id": "Og9DI_ExWxWK",
        "outputId": "355929e2-bad0-4299-be79-8e0123c1d6fd"
      },
      "outputs": [
        {
          "output_type": "execute_result",
          "data": {
            "text/plain": [
              "       sepal length (cm)  sepal width (cm)  petal length (cm)  \\\n",
              "count           50.00000         50.000000          50.000000   \n",
              "mean             6.58800          2.974000           5.552000   \n",
              "std              0.63588          0.322497           0.551895   \n",
              "min              4.90000          2.200000           4.500000   \n",
              "25%              6.22500          2.800000           5.100000   \n",
              "50%              6.50000          3.000000           5.550000   \n",
              "75%              6.90000          3.175000           5.875000   \n",
              "max              7.90000          3.800000           6.900000   \n",
              "\n",
              "       petal width (cm)  target  \n",
              "count          50.00000    50.0  \n",
              "mean            2.02600     2.0  \n",
              "std             0.27465     0.0  \n",
              "min             1.40000     2.0  \n",
              "25%             1.80000     2.0  \n",
              "50%             2.00000     2.0  \n",
              "75%             2.30000     2.0  \n",
              "max             2.50000     2.0  "
            ],
            "text/html": [
              "\n",
              "  <div id=\"df-d14514dd-41ed-4e77-962b-480506d9ac53\">\n",
              "    <div class=\"colab-df-container\">\n",
              "      <div>\n",
              "<style scoped>\n",
              "    .dataframe tbody tr th:only-of-type {\n",
              "        vertical-align: middle;\n",
              "    }\n",
              "\n",
              "    .dataframe tbody tr th {\n",
              "        vertical-align: top;\n",
              "    }\n",
              "\n",
              "    .dataframe thead th {\n",
              "        text-align: right;\n",
              "    }\n",
              "</style>\n",
              "<table border=\"1\" class=\"dataframe\">\n",
              "  <thead>\n",
              "    <tr style=\"text-align: right;\">\n",
              "      <th></th>\n",
              "      <th>sepal length (cm)</th>\n",
              "      <th>sepal width (cm)</th>\n",
              "      <th>petal length (cm)</th>\n",
              "      <th>petal width (cm)</th>\n",
              "      <th>target</th>\n",
              "    </tr>\n",
              "  </thead>\n",
              "  <tbody>\n",
              "    <tr>\n",
              "      <th>count</th>\n",
              "      <td>50.00000</td>\n",
              "      <td>50.000000</td>\n",
              "      <td>50.000000</td>\n",
              "      <td>50.00000</td>\n",
              "      <td>50.0</td>\n",
              "    </tr>\n",
              "    <tr>\n",
              "      <th>mean</th>\n",
              "      <td>6.58800</td>\n",
              "      <td>2.974000</td>\n",
              "      <td>5.552000</td>\n",
              "      <td>2.02600</td>\n",
              "      <td>2.0</td>\n",
              "    </tr>\n",
              "    <tr>\n",
              "      <th>std</th>\n",
              "      <td>0.63588</td>\n",
              "      <td>0.322497</td>\n",
              "      <td>0.551895</td>\n",
              "      <td>0.27465</td>\n",
              "      <td>0.0</td>\n",
              "    </tr>\n",
              "    <tr>\n",
              "      <th>min</th>\n",
              "      <td>4.90000</td>\n",
              "      <td>2.200000</td>\n",
              "      <td>4.500000</td>\n",
              "      <td>1.40000</td>\n",
              "      <td>2.0</td>\n",
              "    </tr>\n",
              "    <tr>\n",
              "      <th>25%</th>\n",
              "      <td>6.22500</td>\n",
              "      <td>2.800000</td>\n",
              "      <td>5.100000</td>\n",
              "      <td>1.80000</td>\n",
              "      <td>2.0</td>\n",
              "    </tr>\n",
              "    <tr>\n",
              "      <th>50%</th>\n",
              "      <td>6.50000</td>\n",
              "      <td>3.000000</td>\n",
              "      <td>5.550000</td>\n",
              "      <td>2.00000</td>\n",
              "      <td>2.0</td>\n",
              "    </tr>\n",
              "    <tr>\n",
              "      <th>75%</th>\n",
              "      <td>6.90000</td>\n",
              "      <td>3.175000</td>\n",
              "      <td>5.875000</td>\n",
              "      <td>2.30000</td>\n",
              "      <td>2.0</td>\n",
              "    </tr>\n",
              "    <tr>\n",
              "      <th>max</th>\n",
              "      <td>7.90000</td>\n",
              "      <td>3.800000</td>\n",
              "      <td>6.900000</td>\n",
              "      <td>2.50000</td>\n",
              "      <td>2.0</td>\n",
              "    </tr>\n",
              "  </tbody>\n",
              "</table>\n",
              "</div>\n",
              "      <button class=\"colab-df-convert\" onclick=\"convertToInteractive('df-d14514dd-41ed-4e77-962b-480506d9ac53')\"\n",
              "              title=\"Convert this dataframe to an interactive table.\"\n",
              "              style=\"display:none;\">\n",
              "        \n",
              "  <svg xmlns=\"http://www.w3.org/2000/svg\" height=\"24px\"viewBox=\"0 0 24 24\"\n",
              "       width=\"24px\">\n",
              "    <path d=\"M0 0h24v24H0V0z\" fill=\"none\"/>\n",
              "    <path d=\"M18.56 5.44l.94 2.06.94-2.06 2.06-.94-2.06-.94-.94-2.06-.94 2.06-2.06.94zm-11 1L8.5 8.5l.94-2.06 2.06-.94-2.06-.94L8.5 2.5l-.94 2.06-2.06.94zm10 10l.94 2.06.94-2.06 2.06-.94-2.06-.94-.94-2.06-.94 2.06-2.06.94z\"/><path d=\"M17.41 7.96l-1.37-1.37c-.4-.4-.92-.59-1.43-.59-.52 0-1.04.2-1.43.59L10.3 9.45l-7.72 7.72c-.78.78-.78 2.05 0 2.83L4 21.41c.39.39.9.59 1.41.59.51 0 1.02-.2 1.41-.59l7.78-7.78 2.81-2.81c.8-.78.8-2.07 0-2.86zM5.41 20L4 18.59l7.72-7.72 1.47 1.35L5.41 20z\"/>\n",
              "  </svg>\n",
              "      </button>\n",
              "      \n",
              "  <style>\n",
              "    .colab-df-container {\n",
              "      display:flex;\n",
              "      flex-wrap:wrap;\n",
              "      gap: 12px;\n",
              "    }\n",
              "\n",
              "    .colab-df-convert {\n",
              "      background-color: #E8F0FE;\n",
              "      border: none;\n",
              "      border-radius: 50%;\n",
              "      cursor: pointer;\n",
              "      display: none;\n",
              "      fill: #1967D2;\n",
              "      height: 32px;\n",
              "      padding: 0 0 0 0;\n",
              "      width: 32px;\n",
              "    }\n",
              "\n",
              "    .colab-df-convert:hover {\n",
              "      background-color: #E2EBFA;\n",
              "      box-shadow: 0px 1px 2px rgba(60, 64, 67, 0.3), 0px 1px 3px 1px rgba(60, 64, 67, 0.15);\n",
              "      fill: #174EA6;\n",
              "    }\n",
              "\n",
              "    [theme=dark] .colab-df-convert {\n",
              "      background-color: #3B4455;\n",
              "      fill: #D2E3FC;\n",
              "    }\n",
              "\n",
              "    [theme=dark] .colab-df-convert:hover {\n",
              "      background-color: #434B5C;\n",
              "      box-shadow: 0px 1px 3px 1px rgba(0, 0, 0, 0.15);\n",
              "      filter: drop-shadow(0px 1px 2px rgba(0, 0, 0, 0.3));\n",
              "      fill: #FFFFFF;\n",
              "    }\n",
              "  </style>\n",
              "\n",
              "      <script>\n",
              "        const buttonEl =\n",
              "          document.querySelector('#df-d14514dd-41ed-4e77-962b-480506d9ac53 button.colab-df-convert');\n",
              "        buttonEl.style.display =\n",
              "          google.colab.kernel.accessAllowed ? 'block' : 'none';\n",
              "\n",
              "        async function convertToInteractive(key) {\n",
              "          const element = document.querySelector('#df-d14514dd-41ed-4e77-962b-480506d9ac53');\n",
              "          const dataTable =\n",
              "            await google.colab.kernel.invokeFunction('convertToInteractive',\n",
              "                                                     [key], {});\n",
              "          if (!dataTable) return;\n",
              "\n",
              "          const docLinkHtml = 'Like what you see? Visit the ' +\n",
              "            '<a target=\"_blank\" href=https://colab.research.google.com/notebooks/data_table.ipynb>data table notebook</a>'\n",
              "            + ' to learn more about interactive tables.';\n",
              "          element.innerHTML = '';\n",
              "          dataTable['output_type'] = 'display_data';\n",
              "          await google.colab.output.renderOutput(dataTable, element);\n",
              "          const docLink = document.createElement('div');\n",
              "          docLink.innerHTML = docLinkHtml;\n",
              "          element.appendChild(docLink);\n",
              "        }\n",
              "      </script>\n",
              "    </div>\n",
              "  </div>\n",
              "  "
            ]
          },
          "metadata": {},
          "execution_count": 353
        }
      ],
      "source": [
        "iris_df[iris_df['target']==2].describe()"
      ]
    },
    {
      "cell_type": "code",
      "execution_count": 354,
      "metadata": {
        "colab": {
          "base_uri": "https://localhost:8080/",
          "height": 779
        },
        "id": "WXB0PZc1gG71",
        "outputId": "db2581ba-395f-4122-b3fe-a5525fdc8bd3"
      },
      "outputs": [
        {
          "output_type": "execute_result",
          "data": {
            "text/plain": [
              "<matplotlib.axes._subplots.AxesSubplot at 0x7f56d1497550>"
            ]
          },
          "metadata": {},
          "execution_count": 354
        },
        {
          "output_type": "display_data",
          "data": {
            "text/plain": [
              "<Figure size 432x288 with 1 Axes>"
            ],
            "image/png": "[encoded data removed]"
          },
          "metadata": {
            "needs_background": "light"
          }
        },
        {
          "output_type": "display_data",
          "data": {
            "text/plain": [
              "<Figure size 432x288 with 1 Axes>"
            ],
            "image/png": "[encoded data removed]"
          },
          "metadata": {
            "needs_background": "light"
          }
        },
        {
          "output_type": "display_data",
          "data": {
            "text/plain": [
              "<Figure size 432x288 with 1 Axes>"
            ],
            "image/png": "[encoded data removed]"
          },
          "metadata": {
            "needs_background": "light"
          }
        }
      ],
      "source": [
        "iris_df[iris_df['target']==0].plot.box()   #setosa\n",
        "iris_df[iris_df['target']==1].plot.box()   #versicolor\n",
        "iris_df[iris_df['target']==2].plot.box()   #virginica"
      ]
    },
    {
      "cell_type": "markdown",
      "source": [
        "From the description plots above, we can see that Class=0 is characteristically much different than Class=1 and Class=2. It is the only class where petal length is lower than sepal width.\n",
        "\n",
        "Scatter plots below verify this observation as well."
      ],
      "metadata": {
        "id": "5ctRWHSQ69pu"
      }
    },
    {
      "cell_type": "code",
      "execution_count": 355,
      "metadata": {
        "colab": {
          "base_uri": "https://localhost:8080/",
          "height": 757
        },
        "id": "zmHwjqhGgUVq",
        "outputId": "56bae8fe-8e3a-49bc-b945-164caa3d0876"
      },
      "outputs": [
        {
          "output_type": "execute_result",
          "data": {
            "text/plain": [
              "<matplotlib.axes._subplots.AxesSubplot at 0x7f56d0dd6090>"
            ]
          },
          "metadata": {},
          "execution_count": 355
        },
        {
          "output_type": "display_data",
          "data": {
            "text/plain": [
              "<Figure size 432x288 with 2 Axes>"
            ],
            "image/png": "[encoded data removed]"
          },
          "metadata": {
            "needs_background": "light"
          }
        },
        {
          "output_type": "display_data",
          "data": {
            "text/plain": [
              "<Figure size 432x288 with 2 Axes>"
            ],
            "image/png": "[encoded data removed]"
          },
          "metadata": {
            "needs_background": "light"
          }
        },
        {
          "output_type": "display_data",
          "data": {
            "text/plain": [
              "<Figure size 432x288 with 2 Axes>"
            ],
            "image/png": "[encoded data removed]"
          },
          "metadata": {
            "needs_background": "light"
          }
        }
      ],
      "source": [
        "iris_df.plot.scatter(x='petal length (cm)',y='sepal length (cm)',s=20,c='target',colormap='viridis')\n",
        "iris_df.plot.scatter(x='petal length (cm)',y='sepal width (cm)',s=10,c='target',colormap='viridis')\n",
        "iris_df.plot.scatter(x='petal length (cm)',y='petal width (cm)',s=10,c='target',colormap='viridis')\n",
        "#iris_df.plot.scatter(x='petal width (cm)',y='sepal length (cm)',s=10,c='target',colormap='viridis')\n",
        "#iris_df.plot.scatter(x='petal width (cm)',y='sepal width (cm)',s=10,c='target',colormap='viridis')\n",
        "#iris_df.plot.scatter(x='sepal length (cm)',y='sepal width (cm)',s=10,c='target',colormap='viridis')\n",
        "#help(iris_df.plot.scatter)"
      ]
    },
    {
      "cell_type": "code",
      "execution_count": 356,
      "metadata": {
        "id": "y6LPYtz1xzKB"
      },
      "outputs": [],
      "source": [
        "# Make the data sets, train/test/validate\n",
        "# For the moment, we will only have train and validation. We will evaluate the model on validation set.\n",
        "# Remember we shuffled the dataset, so it is safe to take first 100 as training set.\n",
        "train_df = iris_df.iloc[0:100]\n",
        "val_df = iris_df.iloc[100:150]\n",
        "#test_df = iris_df.iloc[125:150]"
      ]
    },
    {
      "cell_type": "markdown",
      "source": [
        "Now, when applying Logistic Regression, pay attention to the parameter $C$. It is 'Inverse of regularization strength' with default value 1.0."
      ],
      "metadata": {
        "id": "4G6ELAe69bcv"
      }
    },
    {
      "cell_type": "code",
      "execution_count": 357,
      "metadata": {
        "id": "vHbKEt0-53JF",
        "colab": {
          "base_uri": "https://localhost:8080/"
        },
        "outputId": "ffe9021f-60ee-4ae2-f49e-fcf821942a35"
      },
      "outputs": [
        {
          "output_type": "execute_result",
          "data": {
            "text/plain": [
              "LogisticRegression()"
            ]
          },
          "metadata": {},
          "execution_count": 357
        }
      ],
      "source": [
        "# lr_orig = LogisticRegression(penalty='l2', C=1.0, fit_intercept=True, solver='lbfgs', max_iter=100, multi_class='auto')\n",
        "# l2 is the choice of regularization term, C is the inverse of regularization strength\n",
        "lr_orig = LogisticRegression(C=1.0)\n",
        "lr_orig.fit(train_df.drop(['target'], axis=1),train_df['target'])\n",
        "#help(train_df.drop)\n",
        "#help(lr_orig)"
      ]
    },
    {
      "cell_type": "markdown",
      "source": [
        "#### Look in the documentation before using the models:\n",
        "\n",
        "class sklearn.linear_model.LogisticRegression(  \n",
        "penalty='l2',      \n",
        "dual=False,   \n",
        "tol=0.0001,   \n",
        "C=1.0,   \n",
        "fit_intercept=True,   \n",
        "intercept_scaling=1,   \n",
        "class_weight=None,   \n",
        "random_state=None,   \n",
        "solver='lbfgs',   \n",
        "max_iter=100,   \n",
        "multi_class='auto',   \n",
        "verbose=0,   \n",
        "warm_start=False,   \n",
        "n_jobs=None,  \n",
        "l1_ratio=None  \n",
        ")"
      ],
      "metadata": {
        "id": "A8GQWJcHlE8V"
      }
    },
    {
      "cell_type": "code",
      "execution_count": 358,
      "metadata": {
        "colab": {
          "base_uri": "https://localhost:8080/"
        },
        "id": "DOERofvzjLLG",
        "outputId": "49b66aa3-88dd-4f91-d848-870b88bcf2cf"
      },
      "outputs": [
        {
          "output_type": "stream",
          "name": "stdout",
          "text": [
            "97 / 100\n",
            "48 / 50\n"
          ]
        }
      ],
      "source": [
        "print(sum(lr_orig.predict(train_df.drop('target', axis=1))==train_df['target']), \"/\",len(train_df['target']))\n",
        "print(sum(lr_orig.predict(val_df.drop('target', axis=1))==val_df['target']), \"/\", len(val_df['target']))"
      ]
    },
    {
      "cell_type": "markdown",
      "metadata": {
        "id": "AgtZGlL6dJ3-"
      },
      "source": [
        "# Regularization\n",
        "LogisticRegression() supports $L1$ and $L2$ regularization.\n",
        "\n",
        "Recall the original cross-entropy loss:\n",
        "\n",
        "$$\n",
        "J(w)=\\sum{[-y^{(i)}log(g(z^{(i)}))-(1-y^{(i)})log(1-g(z^{(i)})]}\n",
        "$$\n",
        "\n",
        "Adding $L2$:\n",
        "\n",
        "$$\n",
        "J(w)=\\sum{[-y^{(i)}log(g(z^{(i)}))-(1-y^{(i)})log(1-g(z^{(i)})]}+\\lambda ||w||^2\n",
        "$$\n",
        "\n",
        "In the above, increasing $\\lambda$ increasing the penalty for larger weights and will shrink our coefficient estimates.\n",
        "\n",
        "### scikit-learn Implements this using the inverse of $\\lambda$, smaller $C$ increases Regularization!"
      ]
    },
    {
      "cell_type": "code",
      "source": [
        "cvals = [0.01, 0.05, 0.1, 0.5, 1.0, 2, 5, 10, 50, 250]\n",
        "results = np.zeros(10)\n",
        "index=0\n",
        "for cv in cvals:\n",
        "    lr = LogisticRegression(penalty='l2', C=cv, fit_intercept=True, solver='lbfgs', max_iter=500, multi_class='auto')\n",
        "    lr.fit(train_df.drop(['target'], axis=1),train_df['target'])\n",
        "    u=sum(lr.predict(val_df.drop('target', axis=1))==val_df['target'])\n",
        "    results[index]=u\n",
        "    index+=1\n",
        "\n",
        "x = np.array(range(0,10))\n",
        "pyplot.plot(cvals, results)\n",
        "#help(pyplot.xscale)\n",
        "pyplot.xscale('log')\n",
        "pyplot.xlabel('$C$ values')\n",
        "pyplot.ylabel('Accuracy on validation set')\n",
        "pyplot.show()"
      ],
      "metadata": {
        "colab": {
          "base_uri": "https://localhost:8080/",
          "height": 285
        },
        "id": "T3K8s7GMTMOW",
        "outputId": "4e980fd2-9a8d-44c0-890d-897e3ad90500"
      },
      "execution_count": 359,
      "outputs": [
        {
          "output_type": "display_data",
          "data": {
            "text/plain": [
              "<Figure size 432x288 with 1 Axes>"
            ],
            "image/png": "[encoded data removed]"
          },
          "metadata": {
            "needs_background": "light"
          }
        }
      ]
    },
    {
      "cell_type": "markdown",
      "source": [
        "Deciding on the best $C$ value is not easy. It is a hyperparameter. Using test data to see that is not proper. We should **not** see the test data until final performance evaluation. To choose hyperparameters ($C$, model complexity etc.), we spare a separate section of the data as **validation set**. We'll elaborate this more in an upcoming lecture."
      ],
      "metadata": {
        "id": "omUiu9hcSOki"
      }
    },
    {
      "cell_type": "markdown",
      "source": [
        "## A New Example Where Linear Boundary is insufficient"
      ],
      "metadata": {
        "id": "kIlz16AJ805k"
      }
    },
    {
      "cell_type": "code",
      "execution_count": 360,
      "metadata": {
        "id": "_fanJUUdEL2P",
        "colab": {
          "base_uri": "https://localhost:8080/"
        },
        "outputId": "99fa0074-ba06-42e0-c1ad-4ea561e87aa7"
      },
      "outputs": [
        {
          "output_type": "stream",
          "name": "stdout",
          "text": [
            "Help on function make_moons in module sklearn.datasets._samples_generator:\n",
            "\n",
            "make_moons(n_samples=100, *, shuffle=True, noise=None, random_state=None)\n",
            "    Make two interleaving half circles.\n",
            "    \n",
            "    A simple toy dataset to visualize clustering and classification\n",
            "    algorithms. Read more in the :ref:`User Guide <sample_generators>`.\n",
            "    \n",
            "    Parameters\n",
            "    ----------\n",
            "    n_samples : int or tuple of shape (2,), dtype=int, default=100\n",
            "        If int, the total number of points generated.\n",
            "        If two-element tuple, number of points in each of two moons.\n",
            "    \n",
            "        .. versionchanged:: 0.23\n",
            "           Added two-element tuple.\n",
            "    \n",
            "    shuffle : bool, default=True\n",
            "        Whether to shuffle the samples.\n",
            "    \n",
            "    noise : float, default=None\n",
            "        Standard deviation of Gaussian noise added to the data.\n",
            "    \n",
            "    random_state : int, RandomState instance or None, default=None\n",
            "        Determines random number generation for dataset shuffling and noise.\n",
            "        Pass an int for reproducible output across multiple function calls.\n",
            "        See :term:`Glossary <random_state>`.\n",
            "    \n",
            "    Returns\n",
            "    -------\n",
            "    X : ndarray of shape (n_samples, 2)\n",
            "        The generated samples.\n",
            "    \n",
            "    y : ndarray of shape (n_samples,)\n",
            "        The integer labels (0 or 1) for class membership of each sample.\n",
            "\n"
          ]
        }
      ],
      "source": [
        "help(datasets.make_moons)"
      ]
    },
    {
      "cell_type": "code",
      "execution_count": 361,
      "metadata": {
        "colab": {
          "base_uri": "https://localhost:8080/",
          "height": 282
        },
        "id": "WGGKqfrnqduq",
        "outputId": "3412f8d4-715f-43c0-bb8c-ce667c76cf70"
      },
      "outputs": [
        {
          "output_type": "execute_result",
          "data": {
            "text/plain": [
              "<matplotlib.collections.PathCollection at 0x7f56d0b00350>"
            ]
          },
          "metadata": {},
          "execution_count": 361
        },
        {
          "output_type": "display_data",
          "data": {
            "text/plain": [
              "<Figure size 432x288 with 1 Axes>"
            ],
            "image/png": "[encoded data removed]"
          },
          "metadata": {
            "needs_background": "light"
          }
        }
      ],
      "source": [
        "d=datasets.make_moons(n_samples=500, noise=0.15)  #try noise=None\n",
        "pyplot.scatter(x=d[0][::,0],y=d[0][::,1],c=d[1])\n"
      ]
    },
    {
      "cell_type": "code",
      "execution_count": 362,
      "metadata": {
        "id": "ZbsQl-3WHHhM",
        "outputId": "13469798-dbd7-4519-9a11-86b5a0adec9c",
        "colab": {
          "base_uri": "https://localhost:8080/"
        }
      },
      "outputs": [
        {
          "output_type": "stream",
          "name": "stdout",
          "text": [
            "(200, 2)\n",
            "(300, 2)\n",
            "(300,)\n"
          ]
        }
      ],
      "source": [
        "X = d[0]\n",
        "y = d[1]\n",
        "X_train = X[0:300, :]\n",
        "y_train = y[0:300]\n",
        "X_val = X[300:, :]\n",
        "y_val = y[300:]\n",
        "print(X_val.shape)\n",
        "print(X_train.shape)\n",
        "print(y_train.shape)\n",
        "\n",
        "#pyplot.scatter(x=X_train[:,0],y=X_train[:,1], c=y_train)"
      ]
    },
    {
      "cell_type": "code",
      "execution_count": 363,
      "metadata": {
        "id": "3DKLSqWfHiBw",
        "colab": {
          "base_uri": "https://localhost:8080/"
        },
        "outputId": "14037b8c-c347-4eed-f339-f4fe23596fd3"
      },
      "outputs": [
        {
          "output_type": "execute_result",
          "data": {
            "text/plain": [
              "LogisticRegression()"
            ]
          },
          "metadata": {},
          "execution_count": 363
        }
      ],
      "source": [
        "lr = LogisticRegression(penalty='l2', C=1.0, fit_intercept=True, solver='lbfgs', max_iter=100, multi_class='auto')\n",
        "#lr = LogisticRegression()\n",
        "lr.fit(X_train, y_train)\n",
        "#help(lr)"
      ]
    },
    {
      "cell_type": "code",
      "execution_count": 364,
      "metadata": {
        "colab": {
          "base_uri": "https://localhost:8080/"
        },
        "id": "o-QS2F_5-1dF",
        "outputId": "3067c633-2876-4da6-bc63-ccb42271fb24"
      },
      "outputs": [
        {
          "output_type": "execute_result",
          "data": {
            "text/plain": [
              "0.88"
            ]
          },
          "metadata": {},
          "execution_count": 364
        }
      ],
      "source": [
        "lr.score(X_val, y_val)"
      ]
    },
    {
      "cell_type": "markdown",
      "source": [
        "Let's see how the estimated boundary looks like."
      ],
      "metadata": {
        "id": "GnSpx7-XKyvX"
      }
    },
    {
      "cell_type": "code",
      "source": [
        "pyplot.scatter(x=X_val[:,0],y=X_val[:,1], c=lr.predict(X_val))"
      ],
      "metadata": {
        "id": "QAmxUxlBKx-8",
        "colab": {
          "base_uri": "https://localhost:8080/",
          "height": 282
        },
        "outputId": "dec41250-f579-4c8c-9856-f660f0dca0b9"
      },
      "execution_count": 365,
      "outputs": [
        {
          "output_type": "execute_result",
          "data": {
            "text/plain": [
              "<matplotlib.collections.PathCollection at 0x7f56d0bb9e10>"
            ]
          },
          "metadata": {},
          "execution_count": 365
        },
        {
          "output_type": "display_data",
          "data": {
            "text/plain": [
              "<Figure size 432x288 with 1 Axes>"
            ],
            "image/png": "[encoded data removed]"
          },
          "metadata": {
            "needs_background": "light"
          }
        }
      ]
    },
    {
      "cell_type": "markdown",
      "source": [
        "With only two features, Logistic Regression is able to fit only linear boundaries. Not surprisingly it does not perform well, because classes are not linearly separable."
      ],
      "metadata": {
        "id": "wvg_6OQoU3oR"
      }
    },
    {
      "cell_type": "markdown",
      "source": [
        "We write a method that increases the number of features from 2 to 10. First it adds three new features, namely $x^2$, $x\\cdot y$ and $y^2$.\n",
        "Last 5 features are sinusoids of first 5 features, i.e. $sin(x)$, $sin(y)$, $sin(x^2)$, $sin(x\\cdot y)$ and $sin(y^2)$. These features help Logistic Regression to fit a non-linear boundary."
      ],
      "metadata": {
        "id": "OcWh9ryNGPUy"
      }
    },
    {
      "cell_type": "code",
      "execution_count": 366,
      "metadata": {
        "id": "EU0tLJctAsdt"
      },
      "outputs": [],
      "source": [
        "def addFeatures(X_orig, X_new):\n",
        "  for row in range(X_orig.shape[0]):\n",
        "    \n",
        "    #First two features are just copies of the original two features \n",
        "    col = 0\n",
        "  \n",
        "    X_new[row, col] = X_orig[row, col]\n",
        "    col += 1\n",
        "  \n",
        "    X_new[row, col] = X_orig[row, col]\n",
        "    col += 1\n",
        "    \n",
        "    #Now we crate new features that do not exist in the original data\n",
        "    \n",
        "    X_new[row, col] = X_orig[row, 0]*X_orig[row, 0]\n",
        "    col += 1\n",
        "    \n",
        "    X_new[row, col] = X_orig[row, 0]*X_orig[row, 1]\n",
        "    col += 1\n",
        "    \n",
        "    X_new[row, col] = X_orig[row, 1]*X_orig[row, 1]\n",
        "    col += 1\n",
        "    \n",
        "    num_cur_features = col\n",
        "    for j in range(num_cur_features):\n",
        "      X_new[row, col] = np.sin(X_new[row, j])\n",
        "      col += 1"
      ]
    },
    {
      "cell_type": "code",
      "execution_count": 367,
      "metadata": {
        "id": "KY_Z3Hoy_zBb",
        "outputId": "1fff4abe-9c1e-4f4a-8172-78424874842d",
        "colab": {
          "base_uri": "https://localhost:8080/"
        }
      },
      "outputs": [
        {
          "output_type": "stream",
          "name": "stdout",
          "text": [
            "(300, 10)\n",
            "(200, 10)\n"
          ]
        }
      ],
      "source": [
        "X_train_p = np.zeros((X_train.shape[0], 10))\n",
        "X_val_p = np.zeros((X_val.shape[0], 10))\n",
        "print(X_train_p.shape)\n",
        "print(X_val_p.shape)"
      ]
    },
    {
      "cell_type": "code",
      "execution_count": 368,
      "metadata": {
        "id": "qdSUD67CAtr-",
        "outputId": "50c00256-7ec3-44fd-d0bb-aacc3f67dcda",
        "colab": {
          "base_uri": "https://localhost:8080/"
        }
      },
      "outputs": [
        {
          "output_type": "stream",
          "name": "stdout",
          "text": [
            "(300, 10)\n",
            "(200, 10)\n"
          ]
        }
      ],
      "source": [
        "addFeatures(X_train, X_train_p)\n",
        "addFeatures(X_val, X_val_p)\n",
        "print(X_train_p.shape)\n",
        "print(X_val_p.shape)"
      ]
    },
    {
      "cell_type": "code",
      "execution_count": 369,
      "metadata": {
        "colab": {
          "base_uri": "https://localhost:8080/"
        },
        "id": "aKT4dv4RCf-O",
        "outputId": "15b4b99f-4c9b-45c2-aedf-8a00cd1e0223"
      },
      "outputs": [
        {
          "output_type": "execute_result",
          "data": {
            "text/plain": [
              "LogisticRegression(max_iter=500)"
            ]
          },
          "metadata": {},
          "execution_count": 369
        }
      ],
      "source": [
        "lr = LogisticRegression(penalty='l2', C=1.0, fit_intercept=True, solver='lbfgs', max_iter=500, multi_class='auto')\n",
        "lr.fit(X_train_p, y_train)"
      ]
    },
    {
      "cell_type": "code",
      "source": [
        "pyplot.scatter(x=X_train_p[:,0], y=X_train_p[:,1], c=lr.predict(X_train_p))"
      ],
      "metadata": {
        "id": "Mw5Qtk2LiaIj",
        "colab": {
          "base_uri": "https://localhost:8080/",
          "height": 282
        },
        "outputId": "53c32bd9-ca23-49ea-b68c-83089d94a9fd"
      },
      "execution_count": 370,
      "outputs": [
        {
          "output_type": "execute_result",
          "data": {
            "text/plain": [
              "<matplotlib.collections.PathCollection at 0x7f56d0c7bc50>"
            ]
          },
          "metadata": {},
          "execution_count": 370
        },
        {
          "output_type": "display_data",
          "data": {
            "text/plain": [
              "<Figure size 432x288 with 1 Axes>"
            ],
            "image/png": "[encoded data removed]"
          },
          "metadata": {
            "needs_background": "light"
          }
        }
      ]
    },
    {
      "cell_type": "markdown",
      "source": [
        "What about the performance on the validation data?"
      ],
      "metadata": {
        "id": "TP23XV91ixcp"
      }
    },
    {
      "cell_type": "code",
      "execution_count": 371,
      "metadata": {
        "colab": {
          "base_uri": "https://localhost:8080/"
        },
        "id": "WPzl5dJUCg-3",
        "outputId": "571097b1-73c4-44fc-9376-f9b897640b2b"
      },
      "outputs": [
        {
          "output_type": "execute_result",
          "data": {
            "text/plain": [
              "0.985"
            ]
          },
          "metadata": {},
          "execution_count": 371
        }
      ],
      "source": [
        "lr.score(X_val_p, y_val)"
      ]
    },
    {
      "cell_type": "markdown",
      "source": [
        "Note the improved performance with extra features. Lets plot the predicted classes on validation data."
      ],
      "metadata": {
        "id": "e-E91pK_H3m-"
      }
    },
    {
      "cell_type": "code",
      "source": [
        "pyplot.scatter(x=X_val_p[:,0], y=X_val_p[:,1], c=lr.predict(X_val_p))"
      ],
      "metadata": {
        "colab": {
          "base_uri": "https://localhost:8080/",
          "height": 282
        },
        "id": "lF2WA2eMVMFK",
        "outputId": "2104c5ab-0083-4c34-e60b-5964082f735e"
      },
      "execution_count": 372,
      "outputs": [
        {
          "output_type": "execute_result",
          "data": {
            "text/plain": [
              "<matplotlib.collections.PathCollection at 0x7f56d0d2b790>"
            ]
          },
          "metadata": {},
          "execution_count": 372
        },
        {
          "output_type": "display_data",
          "data": {
            "text/plain": [
              "<Figure size 432x288 with 1 Axes>"
            ],
            "image/png": "[encoded data removed]"
          },
          "metadata": {
            "needs_background": "light"
          }
        }
      ]
    },
    {
      "cell_type": "markdown",
      "metadata": {
        "id": "lgnKMIEMsRIM"
      },
      "source": [
        "# Homework 2: Due 25 June 2022, 11:59 PM\n",
        "\n",
        "Q1) Regarding our Logistic Regression model on Iris dataset. \n",
        "\n",
        "a) Which target class was misclassified the most? What was it mostly classified as?\n",
        "\n",
        "b) Write a function which creates a 3 by 3 table such that:\n",
        "  - row $i$ column $j$ shows the number of elements of type $i$ that were classified as type $j$.\n",
        "  - note the diagonal is the count of correctly classified elements.\n",
        "  - this matrix is known as 'confusion matrix' \n",
        "\n",
        "Q2) Try creating new features to the Iris Dataset by multiplying/squaring various current features together. (e.g. area = length*width)\n",
        "\n",
        "Can we increase the performance on the test set? I believe we can. Please come up with a better performing set of features. Compare the performance with lr.score.\n",
        "\n",
        "Important: Keep test size 33% of the original data, which corresponds to 50 samples."
      ]
    },
    {
      "cell_type": "markdown",
      "source": [
        "# **Q1**"
      ],
      "metadata": {
        "id": "HkqYsvYt8573"
      }
    },
    {
      "cell_type": "markdown",
      "source": [
        "## ***Logistic Regression using the sepal and petal features (no calculated features has been added).***"
      ],
      "metadata": {
        "id": "JGk0TPhdpZ7b"
      }
    },
    {
      "cell_type": "code",
      "source": [
        "#Assigning the input and output features for the model.\n",
        "\n",
        "X = iris_df.drop(['target'], axis=1)\n",
        "y = iris_df['target']\n",
        "print(X.shape)\n",
        "print(y.shape)"
      ],
      "metadata": {
        "colab": {
          "base_uri": "https://localhost:8080/"
        },
        "id": "eHMHYGfj6vn9",
        "outputId": "915713a5-7705-480a-aacc-1607e4e3914e"
      },
      "execution_count": 373,
      "outputs": [
        {
          "output_type": "stream",
          "name": "stdout",
          "text": [
            "(150, 4)\n",
            "(150,)\n"
          ]
        }
      ]
    },
    {
      "cell_type": "code",
      "source": [
        "#Splitting the data into Train and Test data\n",
        "\n",
        "from sklearn.model_selection import train_test_split\n",
        "X_train, X_test, y_train, y_test = train_test_split(X, y, test_size=0.33, random_state=42)      #33% of the data is considered for testing\n",
        "print(X_train.shape)\n",
        "print(y_train.shape)\n",
        "print(X_test.shape)\n",
        "print(y_test.shape)"
      ],
      "metadata": {
        "colab": {
          "base_uri": "https://localhost:8080/"
        },
        "id": "pGYtnwuV7OmF",
        "outputId": "b750737b-ce90-4c5f-d277-d458561dbc54"
      },
      "execution_count": 374,
      "outputs": [
        {
          "output_type": "stream",
          "name": "stdout",
          "text": [
            "(100, 4)\n",
            "(100,)\n",
            "(50, 4)\n",
            "(50,)\n"
          ]
        }
      ]
    },
    {
      "cell_type": "code",
      "source": [
        "# Building a Logistic Regression Model\n",
        "\n",
        "logreg= LogisticRegression(penalty='l2', fit_intercept=True, solver='lbfgs', max_iter=500, multi_class='auto',C=1.0)\n",
        "logreg.fit(X_train,y_train)\n",
        "y_pred= logreg.predict(X_test)"
      ],
      "metadata": {
        "id": "p5SbDTyO7U9F"
      },
      "execution_count": 375,
      "outputs": []
    },
    {
      "cell_type": "code",
      "source": [
        "#Evaluating the model's accuracy\n",
        "\n",
        "logreg.score(X_test, y_test)"
      ],
      "metadata": {
        "colab": {
          "base_uri": "https://localhost:8080/"
        },
        "id": "70FEI-cg9Ohx",
        "outputId": "c730e10d-0e99-475b-ce87-463aa8004ad9"
      },
      "execution_count": 376,
      "outputs": [
        {
          "output_type": "execute_result",
          "data": {
            "text/plain": [
              "0.92"
            ]
          },
          "metadata": {},
          "execution_count": 376
        }
      ]
    },
    {
      "cell_type": "markdown",
      "source": [
        "## **Q1 b) Confusion matrix**"
      ],
      "metadata": {
        "id": "jsQgtSIY8_di"
      }
    },
    {
      "cell_type": "code",
      "source": [
        "#Confusion matrix one of the classification model performance metric.\n",
        "\n",
        "from sklearn.metrics import confusion_matrix\n",
        "\n",
        "CM= confusion_matrix(y_pred,y_test)\n",
        "CM_df = pd.DataFrame(CM,\n",
        "                     index = ['SETOSA_act','VERSICOLOR_act','VIRGINICA_act'], \n",
        "                     columns = ['SETOSA_pred','VERSICOLOR_pred','VIRGINICA_pred'])"
      ],
      "metadata": {
        "id": "5u__a6ed7yT_"
      },
      "execution_count": 377,
      "outputs": []
    },
    {
      "cell_type": "code",
      "source": [
        "CM_df       # 3 by 3 confusion matrix of the test data"
      ],
      "metadata": {
        "colab": {
          "base_uri": "https://localhost:8080/",
          "height": 142
        },
        "id": "D3yz7cbj75Q5",
        "outputId": "30d3e078-8d45-4980-e64d-492541d37bf3"
      },
      "execution_count": 378,
      "outputs": [
        {
          "output_type": "execute_result",
          "data": {
            "text/plain": [
              "                SETOSA_pred  VERSICOLOR_pred  VIRGINICA_pred\n",
              "SETOSA_act               15                0               0\n",
              "VERSICOLOR_act            0               12               2\n",
              "VIRGINICA_act             0                2              19"
            ],
            "text/html": [
              "\n",
              "  <div id=\"df-25c53146-8a90-40f3-a9ec-686833aadc8a\">\n",
              "    <div class=\"colab-df-container\">\n",
              "      <div>\n",
              "<style scoped>\n",
              "    .dataframe tbody tr th:only-of-type {\n",
              "        vertical-align: middle;\n",
              "    }\n",
              "\n",
              "    .dataframe tbody tr th {\n",
              "        vertical-align: top;\n",
              "    }\n",
              "\n",
              "    .dataframe thead th {\n",
              "        text-align: right;\n",
              "    }\n",
              "</style>\n",
              "<table border=\"1\" class=\"dataframe\">\n",
              "  <thead>\n",
              "    <tr style=\"text-align: right;\">\n",
              "      <th></th>\n",
              "      <th>SETOSA_pred</th>\n",
              "      <th>VERSICOLOR_pred</th>\n",
              "      <th>VIRGINICA_pred</th>\n",
              "    </tr>\n",
              "  </thead>\n",
              "  <tbody>\n",
              "    <tr>\n",
              "      <th>SETOSA_act</th>\n",
              "      <td>15</td>\n",
              "      <td>0</td>\n",
              "      <td>0</td>\n",
              "    </tr>\n",
              "    <tr>\n",
              "      <th>VERSICOLOR_act</th>\n",
              "      <td>0</td>\n",
              "      <td>12</td>\n",
              "      <td>2</td>\n",
              "    </tr>\n",
              "    <tr>\n",
              "      <th>VIRGINICA_act</th>\n",
              "      <td>0</td>\n",
              "      <td>2</td>\n",
              "      <td>19</td>\n",
              "    </tr>\n",
              "  </tbody>\n",
              "</table>\n",
              "</div>\n",
              "      <button class=\"colab-df-convert\" onclick=\"convertToInteractive('df-25c53146-8a90-40f3-a9ec-686833aadc8a')\"\n",
              "              title=\"Convert this dataframe to an interactive table.\"\n",
              "              style=\"display:none;\">\n",
              "        \n",
              "  <svg xmlns=\"http://www.w3.org/2000/svg\" height=\"24px\"viewBox=\"0 0 24 24\"\n",
              "       width=\"24px\">\n",
              "    <path d=\"M0 0h24v24H0V0z\" fill=\"none\"/>\n",
              "    <path d=\"M18.56 5.44l.94 2.06.94-2.06 2.06-.94-2.06-.94-.94-2.06-.94 2.06-2.06.94zm-11 1L8.5 8.5l.94-2.06 2.06-.94-2.06-.94L8.5 2.5l-.94 2.06-2.06.94zm10 10l.94 2.06.94-2.06 2.06-.94-2.06-.94-.94-2.06-.94 2.06-2.06.94z\"/><path d=\"M17.41 7.96l-1.37-1.37c-.4-.4-.92-.59-1.43-.59-.52 0-1.04.2-1.43.59L10.3 9.45l-7.72 7.72c-.78.78-.78 2.05 0 2.83L4 21.41c.39.39.9.59 1.41.59.51 0 1.02-.2 1.41-.59l7.78-7.78 2.81-2.81c.8-.78.8-2.07 0-2.86zM5.41 20L4 18.59l7.72-7.72 1.47 1.35L5.41 20z\"/>\n",
              "  </svg>\n",
              "      </button>\n",
              "      \n",
              "  <style>\n",
              "    .colab-df-container {\n",
              "      display:flex;\n",
              "      flex-wrap:wrap;\n",
              "      gap: 12px;\n",
              "    }\n",
              "\n",
              "    .colab-df-convert {\n",
              "      background-color: #E8F0FE;\n",
              "      border: none;\n",
              "      border-radius: 50%;\n",
              "      cursor: pointer;\n",
              "      display: none;\n",
              "      fill: #1967D2;\n",
              "      height: 32px;\n",
              "      padding: 0 0 0 0;\n",
              "      width: 32px;\n",
              "    }\n",
              "\n",
              "    .colab-df-convert:hover {\n",
              "      background-color: #E2EBFA;\n",
              "      box-shadow: 0px 1px 2px rgba(60, 64, 67, 0.3), 0px 1px 3px 1px rgba(60, 64, 67, 0.15);\n",
              "      fill: #174EA6;\n",
              "    }\n",
              "\n",
              "    [theme=dark] .colab-df-convert {\n",
              "      background-color: #3B4455;\n",
              "      fill: #D2E3FC;\n",
              "    }\n",
              "\n",
              "    [theme=dark] .colab-df-convert:hover {\n",
              "      background-color: #434B5C;\n",
              "      box-shadow: 0px 1px 3px 1px rgba(0, 0, 0, 0.15);\n",
              "      filter: drop-shadow(0px 1px 2px rgba(0, 0, 0, 0.3));\n",
              "      fill: #FFFFFF;\n",
              "    }\n",
              "  </style>\n",
              "\n",
              "      <script>\n",
              "        const buttonEl =\n",
              "          document.querySelector('#df-25c53146-8a90-40f3-a9ec-686833aadc8a button.colab-df-convert');\n",
              "        buttonEl.style.display =\n",
              "          google.colab.kernel.accessAllowed ? 'block' : 'none';\n",
              "\n",
              "        async function convertToInteractive(key) {\n",
              "          const element = document.querySelector('#df-25c53146-8a90-40f3-a9ec-686833aadc8a');\n",
              "          const dataTable =\n",
              "            await google.colab.kernel.invokeFunction('convertToInteractive',\n",
              "                                                     [key], {});\n",
              "          if (!dataTable) return;\n",
              "\n",
              "          const docLinkHtml = 'Like what you see? Visit the ' +\n",
              "            '<a target=\"_blank\" href=https://colab.research.google.com/notebooks/data_table.ipynb>data table notebook</a>'\n",
              "            + ' to learn more about interactive tables.';\n",
              "          element.innerHTML = '';\n",
              "          dataTable['output_type'] = 'display_data';\n",
              "          await google.colab.output.renderOutput(dataTable, element);\n",
              "          const docLink = document.createElement('div');\n",
              "          docLink.innerHTML = docLinkHtml;\n",
              "          element.appendChild(docLink);\n",
              "        }\n",
              "      </script>\n",
              "    </div>\n",
              "  </div>\n",
              "  "
            ]
          },
          "metadata": {},
          "execution_count": 378
        }
      ]
    },
    {
      "cell_type": "markdown",
      "source": [
        "## **Q1 a) Which target class was misclassified the most? What was it mostly classified as?**"
      ],
      "metadata": {
        "id": "jH-ZVMyd9hjk"
      }
    },
    {
      "cell_type": "markdown",
      "source": [
        "## *From the confusion matrix it is evident that versicolr and virginica are mostly misclassified as virginica and versicolor respectively. However there are only two such misclassified predictions for the class virginica and versicolor .*"
      ],
      "metadata": {
        "id": "Os8-LsVL-VX7"
      }
    },
    {
      "cell_type": "markdown",
      "source": [
        "# **Q2**"
      ],
      "metadata": {
        "id": "KWze0ftz_Efk"
      }
    },
    {
      "cell_type": "code",
      "source": [
        "# creating new features to the Iris Dataset by multiplying/squaring various current features together.\n",
        "\n",
        "iris_df['petal_area']= np.sin((iris_df['petal length (cm)'])*(iris_df['petal width (cm)']))      #applying np.sin to the area of petal\n",
        "iris_df['sepal_area']= np.sin((iris_df['sepal length (cm)'])*(iris_df['sepal width (cm)']))       #applying np.sin to the area of sepal\n",
        "iris_df['petal_len_sq']= ((iris_df['petal length (cm)'])*(iris_df['petal length (cm)']))\n",
        "iris_df['petal_wid_sq']= ((iris_df['petal width (cm)'])*(iris_df['petal width (cm)']))\n",
        "iris_df['sepal_len_sq']= ((iris_df['sepal length (cm)'])*(iris_df['sepal length (cm)']))\n",
        "iris_df['sepal_len_sq']= ((iris_df['sepal width (cm)'])*(iris_df['sepal width (cm)']))"
      ],
      "metadata": {
        "id": "PdI2jNNd_JG9"
      },
      "execution_count": 379,
      "outputs": []
    },
    {
      "cell_type": "code",
      "source": [
        "#Assigning the input and output features for the model.\n",
        "\n",
        "X1 = iris_df.drop(['target'], axis=1)\n",
        "y1 = iris_df['target']\n",
        "print(X1.shape)\n",
        "print(y1.shape)"
      ],
      "metadata": {
        "colab": {
          "base_uri": "https://localhost:8080/"
        },
        "id": "b3JTck__DQIt",
        "outputId": "968305f8-36c1-42ac-8753-193554a117f2"
      },
      "execution_count": 380,
      "outputs": [
        {
          "output_type": "stream",
          "name": "stdout",
          "text": [
            "(150, 9)\n",
            "(150,)\n"
          ]
        }
      ]
    },
    {
      "cell_type": "code",
      "source": [
        "#Splitting the data into Train and Test data\n",
        "\n",
        "X1_train, X1_test, y1_train, y1_test = train_test_split(X1, y1, test_size=0.33, random_state=42)   #33% of the data is considered for testing\n",
        "print(X1_train.shape)\n",
        "print(y1_train.shape)\n",
        "print(X1_test.shape)\n",
        "print(y1_test.shape)"
      ],
      "metadata": {
        "colab": {
          "base_uri": "https://localhost:8080/"
        },
        "id": "VwVldEUgDY6C",
        "outputId": "0c7268c2-8229-4821-8811-e7df3ae3e516"
      },
      "execution_count": 381,
      "outputs": [
        {
          "output_type": "stream",
          "name": "stdout",
          "text": [
            "(100, 9)\n",
            "(100,)\n",
            "(50, 9)\n",
            "(50,)\n"
          ]
        }
      ]
    },
    {
      "cell_type": "code",
      "source": [
        "# Building a Logistic Regression Model with extra features.\n",
        "\n",
        "logreg1= LogisticRegression(penalty='l2', fit_intercept=True, solver='lbfgs', max_iter=500, multi_class='auto',C=1.0)\n",
        "logreg1.fit(X1_train,y1_train)\n",
        "y_pred1= logreg1.predict(X1_test)"
      ],
      "metadata": {
        "id": "bmYpzNL-DnYs"
      },
      "execution_count": 382,
      "outputs": []
    },
    {
      "cell_type": "code",
      "source": [
        "#Evaluating the model's accuracy (for extra features added).\n",
        "\n",
        "logreg1.score(X1_test,y1_test)"
      ],
      "metadata": {
        "colab": {
          "base_uri": "https://localhost:8080/"
        },
        "id": "0FoVWRBQDvCe",
        "outputId": "a2b55854-7a1b-4996-90f5-381c03b38e31"
      },
      "execution_count": 383,
      "outputs": [
        {
          "output_type": "execute_result",
          "data": {
            "text/plain": [
              "0.98"
            ]
          },
          "metadata": {},
          "execution_count": 383
        }
      ]
    },
    {
      "cell_type": "markdown",
      "source": [
        "## *By adding the new features by squaring/multiplying the existing features, the performance of the model has increased by almost 6% that is 98% when compared to logreg.score which is 92%.*"
      ],
      "metadata": {
        "id": "dfDqK7hWEwVk"
      }
    },
    {
      "cell_type": "code",
      "source": [
        "#Classification report of the Test data.\n",
        "\n",
        "from sklearn.metrics import classification_report\n",
        "print('\\nClassification Report\\n')\n",
        "print(classification_report(y1_test, y_pred1, target_names=['Setosa', 'Versicolor', 'Virginica']))"
      ],
      "metadata": {
        "colab": {
          "base_uri": "https://localhost:8080/"
        },
        "id": "x-cH2YVJIhEe",
        "outputId": "cd305a29-2db0-4414-8808-ad0db0ac7796"
      },
      "execution_count": 384,
      "outputs": [
        {
          "output_type": "stream",
          "name": "stdout",
          "text": [
            "\n",
            "Classification Report\n",
            "\n",
            "              precision    recall  f1-score   support\n",
            "\n",
            "      Setosa       1.00      1.00      1.00        15\n",
            "  Versicolor       1.00      0.93      0.96        14\n",
            "   Virginica       0.95      1.00      0.98        21\n",
            "\n",
            "    accuracy                           0.98        50\n",
            "   macro avg       0.98      0.98      0.98        50\n",
            "weighted avg       0.98      0.98      0.98        50\n",
            "\n"
          ]
        }
      ]
    },
    {
      "cell_type": "code",
      "source": [
        "confusion = confusion_matrix(y1_test, y_pred1)\n",
        "print('Confusion Matrix\\n')\n",
        "print(confusion)"
      ],
      "metadata": {
        "colab": {
          "base_uri": "https://localhost:8080/"
        },
        "id": "sKGQ7fitJlx2",
        "outputId": "e6893e1e-d0c7-4109-ac20-df23ab094909"
      },
      "execution_count": 385,
      "outputs": [
        {
          "output_type": "stream",
          "name": "stdout",
          "text": [
            "Confusion Matrix\n",
            "\n",
            "[[15  0  0]\n",
            " [ 0 13  1]\n",
            " [ 0  0 21]]\n"
          ]
        }
      ]
    }
  ],
  "metadata": {
    "colab": {
      "collapsed_sections": [],
      "name": "Sanam_602_HW2.ipynb",
      "provenance": []
    },
    "kernelspec": {
      "display_name": "Python 3 (ipykernel)",
      "language": "python",
      "name": "python3"
    },
    "language_info": {
      "codemirror_mode": {
        "name": "ipython",
        "version": 3
      },
      "file_extension": ".py",
      "mimetype": "text/x-python",
      "name": "python",
      "nbconvert_exporter": "python",
      "pygments_lexer": "ipython3",
      "version": "3.9.7"
    }
  },
  "nbformat": 4,
  "nbformat_minor": 0
}